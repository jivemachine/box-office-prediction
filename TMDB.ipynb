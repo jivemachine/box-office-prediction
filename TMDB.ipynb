{
 "cells": [
  {
   "cell_type": "markdown",
   "metadata": {},
   "source": [
    "# Imports"
   ]
  },
  {
   "cell_type": "code",
   "execution_count": 1,
   "metadata": {},
   "outputs": [],
   "source": [
    "import pandas as pd\n",
    "import numpy as np\n",
    "\n",
    "import matplotlib.pyplot as plt\n",
    "\n",
    "from sklearn.impute import SimpleImputer\n",
    "from sklearn.preprocessing import OneHotEncoder\n",
    "\n",
    "import warnings\n",
    "warnings.filterwarnings(\"ignore\")\n",
    "\n",
    "from acquire import acquire_data\n",
    "\n",
    "import prepare"
   ]
  },
  {
   "cell_type": "markdown",
   "metadata": {},
   "source": [
    "# Acquire\n",
    "- acquiring data from acquire.py script"
   ]
  },
  {
   "cell_type": "code",
   "execution_count": 2,
   "metadata": {},
   "outputs": [],
   "source": [
    "train, test = acquire_data()"
   ]
  },
  {
   "cell_type": "markdown",
   "metadata": {},
   "source": [
    "# Exploration / Prep"
   ]
  },
  {
   "cell_type": "code",
   "execution_count": 3,
   "metadata": {},
   "outputs": [
    {
     "name": "stdout",
     "output_type": "stream",
     "text": [
      "<class 'pandas.core.frame.DataFrame'>\n",
      "RangeIndex: 3000 entries, 0 to 2999\n",
      "Data columns (total 23 columns):\n",
      " #   Column                 Non-Null Count  Dtype  \n",
      "---  ------                 --------------  -----  \n",
      " 0   id                     3000 non-null   int64  \n",
      " 1   belongs_to_collection  604 non-null    object \n",
      " 2   budget                 3000 non-null   int64  \n",
      " 3   genres                 2993 non-null   object \n",
      " 4   homepage               946 non-null    object \n",
      " 5   imdb_id                3000 non-null   object \n",
      " 6   original_language      3000 non-null   object \n",
      " 7   original_title         3000 non-null   object \n",
      " 8   overview               2992 non-null   object \n",
      " 9   popularity             3000 non-null   float64\n",
      " 10  poster_path            2999 non-null   object \n",
      " 11  production_companies   2844 non-null   object \n",
      " 12  production_countries   2945 non-null   object \n",
      " 13  release_date           3000 non-null   object \n",
      " 14  runtime                2998 non-null   float64\n",
      " 15  spoken_languages       2980 non-null   object \n",
      " 16  status                 3000 non-null   object \n",
      " 17  tagline                2403 non-null   object \n",
      " 18  title                  3000 non-null   object \n",
      " 19  Keywords               2724 non-null   object \n",
      " 20  cast                   2987 non-null   object \n",
      " 21  crew                   2984 non-null   object \n",
      " 22  revenue                3000 non-null   int64  \n",
      "dtypes: float64(2), int64(3), object(18)\n",
      "memory usage: 539.2+ KB\n"
     ]
    }
   ],
   "source": [
    "train.info()"
   ]
  },
  {
   "cell_type": "markdown",
   "metadata": {},
   "source": [
    "### what percentage of the data is missing?\n",
    "- train data"
   ]
  },
  {
   "cell_type": "code",
   "execution_count": 4,
   "metadata": {},
   "outputs": [
    {
     "data": {
      "text/plain": [
       "id                        0.00\n",
       "belongs_to_collection    79.87\n",
       "budget                    0.00\n",
       "genres                    0.23\n",
       "homepage                 68.47\n",
       "imdb_id                   0.00\n",
       "original_language         0.00\n",
       "original_title            0.00\n",
       "overview                  0.27\n",
       "popularity                0.00\n",
       "poster_path               0.03\n",
       "production_companies      5.20\n",
       "production_countries      1.83\n",
       "release_date              0.00\n",
       "runtime                   0.07\n",
       "spoken_languages          0.67\n",
       "status                    0.00\n",
       "tagline                  19.90\n",
       "title                     0.00\n",
       "Keywords                  9.20\n",
       "cast                      0.43\n",
       "crew                      0.53\n",
       "revenue                   0.00\n",
       "dtype: float64"
      ]
     },
     "execution_count": 4,
     "metadata": {},
     "output_type": "execute_result"
    }
   ],
   "source": [
    "prepare.percent_of_values_missing(train)"
   ]
  },
  {
   "cell_type": "markdown",
   "metadata": {},
   "source": [
    "- test data"
   ]
  },
  {
   "cell_type": "code",
   "execution_count": 5,
   "metadata": {},
   "outputs": [
    {
     "data": {
      "text/plain": [
       "id                        0.00\n",
       "belongs_to_collection    80.06\n",
       "budget                    0.00\n",
       "genres                    0.36\n",
       "homepage                 67.71\n",
       "imdb_id                   0.00\n",
       "original_language         0.00\n",
       "original_title            0.00\n",
       "overview                  0.32\n",
       "popularity                0.00\n",
       "poster_path               0.02\n",
       "production_companies      5.87\n",
       "production_countries      2.32\n",
       "release_date              0.02\n",
       "runtime                   0.09\n",
       "spoken_languages          0.95\n",
       "status                    0.05\n",
       "tagline                  19.62\n",
       "title                     0.07\n",
       "Keywords                  8.94\n",
       "cast                      0.30\n",
       "crew                      0.50\n",
       "dtype: float64"
      ]
     },
     "execution_count": 5,
     "metadata": {},
     "output_type": "execute_result"
    }
   ],
   "source": [
    "prepare.percent_of_values_missing(test)"
   ]
  },
  {
   "cell_type": "markdown",
   "metadata": {},
   "source": [
    "#### I need to learn more about this data\n",
    "- I can see a few things I should do with this data, it's not as clean as i had originally though.\n",
    "\n",
    "To Do's:\n",
    "1. change id column to string (no math needs to be done to that column)\n",
    "1. drop 'belongs to collection' column 80% null values\n",
    "1. drop 'homepage' column, missing 68% of values\n",
    "1. fill missing tagline with empty string\n",
    "1. drop all other missing data"
   ]
  },
  {
   "cell_type": "code",
   "execution_count": 6,
   "metadata": {},
   "outputs": [
    {
     "data": {
      "text/plain": [
       "((3000, 23), (4398, 22))"
      ]
     },
     "execution_count": 6,
     "metadata": {},
     "output_type": "execute_result"
    }
   ],
   "source": [
    "train.shape, test.shape"
   ]
  },
  {
   "cell_type": "markdown",
   "metadata": {},
   "source": [
    "## what is belongs to collection\n",
    "- should i drop it?"
   ]
  },
  {
   "cell_type": "code",
   "execution_count": 7,
   "metadata": {},
   "outputs": [
    {
     "name": "stdout",
     "output_type": "stream",
     "text": [
      "0 [{'id': 313576, 'name': 'Hot Tub Time Machine Collection', 'poster_path': '/iEhb00TGPucF0b4joM1ieyY026U.jpg', 'backdrop_path': '/noeTVcgpBiD48fDjFVic1Vz7ope.jpg'}]\n",
      "1 [{'id': 107674, 'name': 'The Princess Diaries Collection', 'poster_path': '/wt5AMbxPTS4Kfjx7Fgm149qPfZl.jpg', 'backdrop_path': '/zSEtYD77pKRJlUPx34BJgUG9v1c.jpg'}]\n",
      "2 nan\n",
      "3 nan\n",
      "4 nan\n"
     ]
    }
   ],
   "source": [
    "# lets see what this column looks like\n",
    "for i, e in enumerate(train['belongs_to_collection'][:5]):\n",
    "    print(i, e)"
   ]
  },
  {
   "cell_type": "markdown",
   "metadata": {},
   "source": [
    "- nested lists filled with movie id, movie title, the poster path, and the backdrop path\n",
    "- it looks like the original dataframe used to grab the data from\n",
    "- we don't need this, all of this data is **redundant**\n",
    "\n",
    "- DROP!"
   ]
  },
  {
   "cell_type": "code",
   "execution_count": 8,
   "metadata": {},
   "outputs": [],
   "source": [
    "def prep_belong(df):\n",
    "    df.drop(columns='belongs_to_collection', inplace=True)\n",
    "    return df"
   ]
  },
  {
   "cell_type": "code",
   "execution_count": 9,
   "metadata": {},
   "outputs": [],
   "source": [
    "train = prep_belong(train)\n",
    "test = prep_belong(test)"
   ]
  },
  {
   "cell_type": "markdown",
   "metadata": {},
   "source": [
    "- done"
   ]
  },
  {
   "cell_type": "markdown",
   "metadata": {},
   "source": [
    "## genres"
   ]
  },
  {
   "cell_type": "code",
   "execution_count": 10,
   "metadata": {},
   "outputs": [
    {
     "data": {
      "text/plain": [
       "3000"
      ]
     },
     "execution_count": 10,
     "metadata": {},
     "output_type": "execute_result"
    }
   ],
   "source": [
    "len(train.genres)"
   ]
  },
  {
   "cell_type": "code",
   "execution_count": 11,
   "metadata": {},
   "outputs": [
    {
     "data": {
      "text/plain": [
       "7"
      ]
     },
     "execution_count": 11,
     "metadata": {},
     "output_type": "execute_result"
    }
   ],
   "source": [
    "train.genres.isna().sum()"
   ]
  },
  {
   "cell_type": "markdown",
   "metadata": {},
   "source": [
    "- there are 7 out of the 3,000 rows that are nan's"
   ]
  },
  {
   "cell_type": "code",
   "execution_count": 12,
   "metadata": {},
   "outputs": [
    {
     "name": "stdout",
     "output_type": "stream",
     "text": [
      "0 [{'id': 35, 'name': 'Comedy'}]\n",
      "1 [{'id': 35, 'name': 'Comedy'}, {'id': 18, 'name': 'Drama'}, {'id': 10751, 'name': 'Family'}, {'id': 10749, 'name': 'Romance'}]\n",
      "2 [{'id': 18, 'name': 'Drama'}]\n",
      "3 [{'id': 53, 'name': 'Thriller'}, {'id': 18, 'name': 'Drama'}]\n",
      "4 [{'id': 28, 'name': 'Action'}, {'id': 53, 'name': 'Thriller'}]\n"
     ]
    }
   ],
   "source": [
    "# what does this data look like?\n",
    "for i, e in enumerate(train['genres'][:5]):\n",
    "    print(i, e)"
   ]
  },
  {
   "cell_type": "markdown",
   "metadata": {},
   "source": [
    "- another nested list\n",
    "- we have movie id, and the genre, sometimes multiple libraies, probably because a movie is more than 1 genre\n",
    "- don't 100% understand why these id's for the movie's genres are so oddly numbered tho...\n",
    "\n",
    "I can either drop or impute the missing 7, or simply use the median "
   ]
  },
  {
   "cell_type": "markdown",
   "metadata": {},
   "source": [
    "#### most popular genres"
   ]
  },
  {
   "cell_type": "code",
   "execution_count": 13,
   "metadata": {},
   "outputs": [
    {
     "data": {
      "text/plain": [
       "[{'id': 18, 'name': 'Drama'}]                                       266\n",
       "[{'id': 35, 'name': 'Comedy'}]                                      186\n",
       "[{'id': 18, 'name': 'Drama'}, {'id': 10749, 'name': 'Romance'}]     108\n",
       "[{'id': 35, 'name': 'Comedy'}, {'id': 10749, 'name': 'Romance'}]     88\n",
       "[{'id': 35, 'name': 'Comedy'}, {'id': 18, 'name': 'Drama'}]          85\n",
       "Name: genres, dtype: int64"
      ]
     },
     "execution_count": 13,
     "metadata": {},
     "output_type": "execute_result"
    }
   ],
   "source": [
    "train.genres.value_counts().head()"
   ]
  },
  {
   "cell_type": "markdown",
   "metadata": {},
   "source": [
    "- i'll just impute the 7 missing value's with the most common genre\n",
    "- using sklearns simple imputer"
   ]
  },
  {
   "cell_type": "code",
   "execution_count": 14,
   "metadata": {},
   "outputs": [],
   "source": [
    "# initalize the imputer w/ the strategy\n",
    "imputer = SimpleImputer(strategy = 'most_frequent')\n",
    "# fit the imputer\n",
    "imputer = imputer.fit(train[['genres']])\n",
    "# IMPUTE the genres columns of the train and test data\n",
    "train[['genres']] = imputer.transform(train[['genres']])\n",
    "test[['genres']] = imputer.transform(test[['genres']])"
   ]
  },
  {
   "cell_type": "markdown",
   "metadata": {},
   "source": [
    "## production_companies"
   ]
  },
  {
   "cell_type": "code",
   "execution_count": 15,
   "metadata": {},
   "outputs": [
    {
     "data": {
      "text/plain": [
       "0       [{'name': 'Paramount Pictures', 'id': 4}, {'na...\n",
       "1             [{'name': 'Walt Disney Pictures', 'id': 2}]\n",
       "2       [{'name': 'Bold Films', 'id': 2266}, {'name': ...\n",
       "3                                                     NaN\n",
       "4                                                     NaN\n",
       "                              ...                        \n",
       "2995    [{'name': 'Warner Bros.', 'id': 6194}, {'name'...\n",
       "2996    [{'name': 'Memfis Film', 'id': 321}, {'name': ...\n",
       "2997    [{'name': 'New Line Cinema', 'id': 12}, {'name...\n",
       "2998    [{'name': 'Jersey Films', 'id': 216}, {'name':...\n",
       "2999    [{'name': 'Lions Gate Films', 'id': 35}, {'nam...\n",
       "Name: production_companies, Length: 3000, dtype: object"
      ]
     },
     "execution_count": 15,
     "metadata": {},
     "output_type": "execute_result"
    }
   ],
   "source": [
    "train.production_companies"
   ]
  },
  {
   "cell_type": "code",
   "execution_count": 16,
   "metadata": {},
   "outputs": [
    {
     "name": "stdout",
     "output_type": "stream",
     "text": [
      "0 [{'name': 'Paramount Pictures', 'id': 4}, {'name': 'United Artists', 'id': 60}, {'name': 'Metro-Goldwyn-Mayer (MGM)', 'id': 8411}]\n",
      "1 [{'name': 'Walt Disney Pictures', 'id': 2}]\n",
      "2 [{'name': 'Bold Films', 'id': 2266}, {'name': 'Blumhouse Productions', 'id': 3172}, {'name': 'Right of Way Films', 'id': 32157}]\n",
      "3 nan\n",
      "4 nan\n"
     ]
    }
   ],
   "source": [
    "for i, e in enumerate(train['production_companies'][:5]):\n",
    "    print(i, e)"
   ]
  },
  {
   "cell_type": "code",
   "execution_count": 17,
   "metadata": {},
   "outputs": [
    {
     "data": {
      "text/plain": [
       "156"
      ]
     },
     "execution_count": 17,
     "metadata": {},
     "output_type": "execute_result"
    }
   ],
   "source": [
    "train.production_companies.isna().sum()"
   ]
  },
  {
   "cell_type": "markdown",
   "metadata": {},
   "source": [
    "- looks like there are 156 null's out of 3k in this list of production companies"
   ]
  },
  {
   "cell_type": "code",
   "execution_count": 30,
   "metadata": {},
   "outputs": [
    {
     "data": {
      "text/plain": [
       "[{'name': 'Paramount Pictures', 'id': 4}]                          51\n",
       "[{'name': 'Universal Pictures', 'id': 33}]                         36\n",
       "[{'name': 'Warner Bros.', 'id': 6194}]                             32\n",
       "[{'name': 'Metro-Goldwyn-Mayer (MGM)', 'id': 8411}]                32\n",
       "[{'name': 'Twentieth Century Fox Film Corporation', 'id': 306}]    24\n",
       "Name: production_companies, dtype: int64"
      ]
     },
     "execution_count": 30,
     "metadata": {},
     "output_type": "execute_result"
    }
   ],
   "source": [
    "train['production_companies'].value_counts().head()"
   ]
  },
  {
   "cell_type": "code",
   "execution_count": 31,
   "metadata": {},
   "outputs": [
    {
     "data": {
      "text/plain": [
       "2383"
      ]
     },
     "execution_count": 31,
     "metadata": {},
     "output_type": "execute_result"
    }
   ],
   "source": [
    "train['production_companies'].nunique()"
   ]
  },
  {
   "cell_type": "markdown",
   "metadata": {},
   "source": [
    "- over 2,300 unique data points.\n",
    "- If i impute with the most common company I will ruin the dataset.\n",
    "- I'll just drop the missing data"
   ]
  },
  {
   "cell_type": "code",
   "execution_count": 37,
   "metadata": {},
   "outputs": [],
   "source": [
    "# dropping nulls for train\n",
    "train['production_companies'].dropna(inplace=True)\n",
    "# dropping nulls for test\n",
    "test['production_companies'].dropna(inplace=True)"
   ]
  },
  {
   "cell_type": "code",
   "execution_count": 38,
   "metadata": {},
   "outputs": [
    {
     "data": {
      "text/plain": [
       "0"
      ]
     },
     "execution_count": 38,
     "metadata": {},
     "output_type": "execute_result"
    }
   ],
   "source": [
    "train['production_companies'].isna().sum()"
   ]
  },
  {
   "cell_type": "code",
   "execution_count": 39,
   "metadata": {},
   "outputs": [
    {
     "data": {
      "text/plain": [
       "0"
      ]
     },
     "execution_count": 39,
     "metadata": {},
     "output_type": "execute_result"
    }
   ],
   "source": [
    "test['production_companies'].isna().sum()"
   ]
  },
  {
   "cell_type": "markdown",
   "metadata": {},
   "source": [
    "## production_countries"
   ]
  },
  {
   "cell_type": "code",
   "execution_count": 40,
   "metadata": {},
   "outputs": [
    {
     "name": "stdout",
     "output_type": "stream",
     "text": [
      "0 [{'iso_3166_1': 'US', 'name': 'United States of America'}]\n",
      "1 [{'iso_3166_1': 'US', 'name': 'United States of America'}]\n",
      "2 [{'iso_3166_1': 'US', 'name': 'United States of America'}]\n",
      "3 [{'iso_3166_1': 'IN', 'name': 'India'}]\n",
      "4 [{'iso_3166_1': 'KR', 'name': 'South Korea'}]\n"
     ]
    }
   ],
   "source": [
    "for i, e in enumerate(train['production_countries'][:5]):\n",
    "    print(i, e)"
   ]
  },
  {
   "cell_type": "code",
   "execution_count": 41,
   "metadata": {},
   "outputs": [
    {
     "data": {
      "text/plain": [
       "55"
      ]
     },
     "execution_count": 41,
     "metadata": {},
     "output_type": "execute_result"
    }
   ],
   "source": [
    "train['production_countries'].isna().sum()"
   ]
  },
  {
   "cell_type": "code",
   "execution_count": 42,
   "metadata": {},
   "outputs": [
    {
     "data": {
      "text/plain": [
       "[{'iso_3166_1': 'US', 'name': 'United States of America'}]                                                    1752\n",
       "[{'iso_3166_1': 'GB', 'name': 'United Kingdom'}, {'iso_3166_1': 'US', 'name': 'United States of America'}]     118\n",
       "[{'iso_3166_1': 'GB', 'name': 'United Kingdom'}]                                                                94\n",
       "[{'iso_3166_1': 'IN', 'name': 'India'}]                                                                         69\n",
       "[{'iso_3166_1': 'FR', 'name': 'France'}]                                                                        51\n",
       "Name: production_countries, dtype: int64"
      ]
     },
     "execution_count": 42,
     "metadata": {},
     "output_type": "execute_result"
    }
   ],
   "source": [
    "train['production_countries'].value_counts().head()"
   ]
  },
  {
   "cell_type": "markdown",
   "metadata": {},
   "source": [
    "- only 55 missing values\n",
    "- America is the most common, no suprises there..\n"
   ]
  },
  {
   "cell_type": "code",
   "execution_count": 48,
   "metadata": {},
   "outputs": [
    {
     "name": "stdout",
     "output_type": "stream",
     "text": [
      "0.03139269406392694\n"
     ]
    }
   ],
   "source": [
    "print(55/1752)"
   ]
  },
  {
   "cell_type": "markdown",
   "metadata": {},
   "source": [
    "- We'll impute the extra 3% into America"
   ]
  },
  {
   "cell_type": "code",
   "execution_count": null,
   "metadata": {},
   "outputs": [],
   "source": [
    "# using the same imputer from before...we fit the imputer\n",
    "imputer = imputer.fit(train[['production_countries']])\n",
    "# then we transform the production_countries column in the train and test data\n",
    "train[['production_countries']] = imputer.transform(train[['production_countries']])\n",
    "test[['production_countries']] = imputer.transform(test[['production_countries']])"
   ]
  },
  {
   "cell_type": "code",
   "execution_count": null,
   "metadata": {},
   "outputs": [],
   "source": [
    "train.production_countries.isna().sum()\n",
    "test.production_countries.isna().sum()"
   ]
  },
  {
   "cell_type": "markdown",
   "metadata": {},
   "source": [
    "## tagline"
   ]
  },
  {
   "cell_type": "code",
   "execution_count": 49,
   "metadata": {},
   "outputs": [
    {
     "name": "stdout",
     "output_type": "stream",
     "text": [
      "0 The Laws of Space and Time are About to be Violated.\n",
      "1 It can take a lifetime to find true love; she's got 30 days!\n",
      "2 The road to greatness can take you to the edge.\n",
      "3 nan\n",
      "4 nan\n"
     ]
    }
   ],
   "source": [
    "for i, e in enumerate(train['tagline'][:5]):\n",
    "    print(i,e)"
   ]
  },
  {
   "cell_type": "code",
   "execution_count": 53,
   "metadata": {},
   "outputs": [
    {
     "data": {
      "text/plain": [
       "0.199"
      ]
     },
     "execution_count": 53,
     "metadata": {},
     "output_type": "execute_result"
    }
   ],
   "source": [
    "train.tagline.isna().sum() / len(train.tagline)  "
   ]
  },
  {
   "cell_type": "markdown",
   "metadata": {},
   "source": [
    "- one idea is to encode the data where 0 = it has a tagline and 1 = no tagline, but that seems kind of far-fetched, like it may not be the most useful\n",
    "- i can still set it up tho, then drop the tagline column"
   ]
  },
  {
   "cell_type": "code",
   "execution_count": 56,
   "metadata": {},
   "outputs": [],
   "source": [
    "# creating new column for datapoints that do and do not have data points\n",
    "# will be True/False in column\n",
    "train['has_tagline'] = train['tagline'].notnull()\n",
    "test['has_tagline'] = test['tagline'].notnull()\n",
    "# converting True/False into 1/0 in dataframe\n",
    "train[\"has_tagline\"] = train[\"has_tagline\"].astype(int)\n",
    "test['has_tagline'] = test['has_tagline'].astype(int)"
   ]
  },
  {
   "cell_type": "code",
   "execution_count": 67,
   "metadata": {},
   "outputs": [],
   "source": [
    "# dropping tagline column from train and test\n",
    "train.drop(['tagline'], axis=1, inplace=True)\n",
    "test.drop(['tagline'], axis=1, inplace=True)"
   ]
  },
  {
   "cell_type": "markdown",
   "metadata": {},
   "source": [
    "## Keywords"
   ]
  },
  {
   "cell_type": "code",
   "execution_count": 70,
   "metadata": {},
   "outputs": [
    {
     "name": "stdout",
     "output_type": "stream",
     "text": [
      "0 [{'id': 4379, 'name': 'time travel'}, {'id': 9663, 'name': 'sequel'}, {'id': 11830, 'name': 'hot tub'}, {'id': 179431, 'name': 'duringcreditsstinger'}]\n",
      "1 [{'id': 2505, 'name': 'coronation'}, {'id': 4263, 'name': 'duty'}, {'id': 6038, 'name': 'marriage'}, {'id': 13072, 'name': 'falling in love'}]\n",
      "2 [{'id': 1416, 'name': 'jazz'}, {'id': 1523, 'name': 'obsession'}, {'id': 1640, 'name': 'conservatory'}, {'id': 2176, 'name': 'music teacher'}, {'id': 14512, 'name': 'new york city'}, {'id': 14819, 'name': 'violence'}, {'id': 33896, 'name': 'montage'}, {'id': 156823, 'name': 'drummer'}, {'id': 170418, 'name': 'public humiliation'}, {'id': 176095, 'name': 'jazz band'}, {'id': 206298, 'name': 'young adult'}, {'id': 207739, 'name': 'music school'}]\n",
      "3 [{'id': 10092, 'name': 'mystery'}, {'id': 10540, 'name': 'bollywood'}, {'id': 11734, 'name': 'police corruption'}, {'id': 14536, 'name': 'crime'}, {'id': 14636, 'name': 'india'}, {'id': 208364, 'name': 'missing husband'}, {'id': 220935, 'name': 'nerve gas'}]\n",
      "4 nan\n"
     ]
    }
   ],
   "source": [
    "for i,e in enumerate(train['Keywords'][:5]):\n",
    "    print(i,e)"
   ]
  },
  {
   "cell_type": "code",
   "execution_count": 72,
   "metadata": {},
   "outputs": [
    {
     "data": {
      "text/plain": [
       "[{'id': 10183, 'name': 'independent film'}]         27\n",
       "[{'id': 187056, 'name': 'woman director'}]          19\n",
       "[{'id': 179431, 'name': 'duringcreditsstinger'}]     7\n",
       "[{'id': 9937, 'name': 'suspense'}]                   6\n",
       "[{'id': 5565, 'name': 'biography'}]                  5\n",
       "Name: Keywords, dtype: int64"
      ]
     },
     "execution_count": 72,
     "metadata": {},
     "output_type": "execute_result"
    }
   ],
   "source": [
    "train.Keywords.value_counts().head()"
   ]
  },
  {
   "cell_type": "markdown",
   "metadata": {},
   "source": [
    "- I'm going to drop these"
   ]
  },
  {
   "cell_type": "code",
   "execution_count": 73,
   "metadata": {},
   "outputs": [],
   "source": [
    "train.drop(['Keywords'], axis=1, inplace=True)\n",
    "test.drop(['Keywords'], axis=1, inplace=True)"
   ]
  },
  {
   "cell_type": "markdown",
   "metadata": {},
   "source": [
    "## cast"
   ]
  },
  {
   "cell_type": "code",
   "execution_count": 74,
   "metadata": {},
   "outputs": [
    {
     "name": "stdout",
     "output_type": "stream",
     "text": [
      "0 [{'cast_id': 4, 'character': 'Lou', 'credit_id': '52fe4ee7c3a36847f82afae7', 'gender': 2, 'id': 52997, 'name': 'Rob Corddry', 'order': 0, 'profile_path': '/k2zJL0V1nEZuFT08xUdOd3ucfXz.jpg'}, {'cast_id': 5, 'character': 'Nick', 'credit_id': '52fe4ee7c3a36847f82afaeb', 'gender': 2, 'id': 64342, 'name': 'Craig Robinson', 'order': 1, 'profile_path': '/tVaRMkJXOEVhYxtnnFuhqW0Rjzz.jpg'}, {'cast_id': 6, 'character': 'Jacob', 'credit_id': '52fe4ee7c3a36847f82afaef', 'gender': 2, 'id': 54729, 'name': 'Clark Duke', 'order': 2, 'profile_path': '/oNzK0umwm5Wn0wyEbOy6TVJCSBn.jpg'}, {'cast_id': 7, 'character': 'Adam Jr.', 'credit_id': '52fe4ee7c3a36847f82afaf3', 'gender': 2, 'id': 36801, 'name': 'Adam Scott', 'order': 3, 'profile_path': '/5gb65xz8bzd42yjMAl4zwo4cvKw.jpg'}, {'cast_id': 8, 'character': 'Hot Tub Repairman', 'credit_id': '52fe4ee7c3a36847f82afaf7', 'gender': 2, 'id': 54812, 'name': 'Chevy Chase', 'order': 4, 'profile_path': '/svjpyYtPwtjvRxX9IZnOmOkhDOt.jpg'}, {'cast_id': 9, 'character': 'Jill', 'credit_id': '52fe4ee7c3a36847f82afafb', 'gender': 1, 'id': 94098, 'name': 'Gillian Jacobs', 'order': 5, 'profile_path': '/rBnhe5vhNPnhRUdtYahBWx90fJM.jpg'}, {'cast_id': 10, 'character': 'Sophie', 'credit_id': '52fe4ee7c3a36847f82afaff', 'gender': 1, 'id': 1159009, 'name': 'Bianca Haase', 'order': 6, 'profile_path': '/4x3nbtD8q8phAJPmoGWXPvz0iM.jpg'}, {'cast_id': 11, 'character': 'Kelly', 'credit_id': '5524ec51c3a3687df3000dbb', 'gender': 1, 'id': 86624, 'name': 'Collette Wolfe', 'order': 7, 'profile_path': '/aSD4h5379b2eEw3bLou9ByLimmq.jpg'}, {'cast_id': 13, 'character': 'Brad', 'credit_id': '5524ec8ec3a3687ded000d72', 'gender': 2, 'id': 466505, 'name': 'Kumail Nanjiani', 'order': 9, 'profile_path': '/x4nAztHY72SVciRfxEsbhIVTsIu.jpg'}, {'cast_id': 14, 'character': 'Courtney', 'credit_id': '5524ec9bc3a3687df8000d13', 'gender': 1, 'id': 70776, 'name': 'Kellee Stewart', 'order': 10, 'profile_path': '/w3xmsEPmJc1Cf0dQ4aIn8YmlHbk.jpg'}, {'cast_id': 15, 'character': 'Terry', 'credit_id': '5524eca892514171cb008237', 'gender': 2, 'id': 347335, 'name': 'Josh Heald', 'order': 11, 'profile_path': '/pwXJIenrDMrG7t3zNfLvr8w1RGU.jpg'}, {'cast_id': 16, 'character': 'Susan', 'credit_id': '5524ecb7925141720c001116', 'gender': 0, 'id': 1451392, 'name': 'Gretchen Koerner', 'order': 12, 'profile_path': '/muULPexCTJGyJba4yKzxronpD50.jpg'}, {'cast_id': 17, 'character': 'Herself', 'credit_id': '5524ecc3c3a3687ded000d74', 'gender': 1, 'id': 98879, 'name': 'Lisa Loeb', 'order': 13, 'profile_path': '/bGqg58ca0bZR38z9HliUMmeNGE.jpg'}, {'cast_id': 18, 'character': 'Herself', 'credit_id': '5524ecd3c3a3687e11000ed3', 'gender': 1, 'id': 1394648, 'name': 'Jessica Williams', 'order': 14, 'profile_path': '/A4syKjkcYB92wLEhH0c0hC3BCpz.jpg'}, {'cast_id': 19, 'character': 'Himself', 'credit_id': '5524ece6925141718d001009', 'gender': 0, 'id': 1451393, 'name': 'Bruce Buffer', 'order': 15, 'profile_path': None}, {'cast_id': 20, 'character': 'Shot Girl', 'credit_id': '5524ecf5c3a3687e08000dc2', 'gender': 0, 'id': 1451394, 'name': 'Mariana Paola Vicente', 'order': 16, 'profile_path': '/ckPllza8624UHWGHCbLShkLxCD1.jpg'}, {'cast_id': 33, 'character': 'Choozy Doozy Host', 'credit_id': '555844da9251412afe0013a9', 'gender': 2, 'id': 2224, 'name': 'Christian Slater', 'order': 17, 'profile_path': '/3ElLWjnvchMS6Q4cIQOK8QNAoMG.jpg'}, {'cast_id': 35, 'character': 'Gary Winkle', 'credit_id': '55872027c3a3683853005074', 'gender': 0, 'id': 185805, 'name': 'Jason Jones', 'order': 18, 'profile_path': '/aIoCw6vo8AGMdsQRAI5g2t0yJT3.jpg'}, {'cast_id': 36, 'character': 'Bridesmaid', 'credit_id': '55efe971c3a368090c00cd1b', 'gender': 0, 'id': 1507448, 'name': 'Olivia Jordan', 'order': 19, 'profile_path': '/szMukAEiIDeasel0lvyaeyKuych.jpg'}, {'cast_id': 37, 'character': 'Christine', 'credit_id': '55efe980c3a36871bf008176', 'gender': 1, 'id': 1334091, 'name': 'Christine Bently', 'order': 20, 'profile_path': '/oUZltnGa55OXE52hfyPTfCshuNy.jpg'}, {'cast_id': 38, 'character': 'Excited Girl', 'credit_id': '55efe98e9251413e3201d316', 'gender': 0, 'id': 557803, 'name': 'Stacey Asaro', 'order': 21, 'profile_path': '/qTPdlr1dXf3kNdyHuDsgtGC0HCC.jpg'}, {'cast_id': 64, 'character': 'Adam (uncredited)', 'credit_id': '58f2135ac3a3682e95008b91', 'gender': 2, 'id': 3036, 'name': 'John Cusack', 'order': 22, 'profile_path': '/uKydQYuZ9TnCzvbQLtj6j98vWAT.jpg'}, {'cast_id': 65, 'character': 'J-Bird', 'credit_id': '59ac0240c3a3682cc802c399', 'gender': 2, 'id': 59256, 'name': 'Adam Herschman', 'order': 23, 'profile_path': '/wZMwiuX1DslF6hDS50z9OTN6z1X.jpg'}, {'cast_id': 66, 'character': 'Bridesmaid', 'credit_id': '59ac02cd925141079d02b1b4', 'gender': 1, 'id': 129714, 'name': 'Kisha Sierra', 'order': 24, 'profile_path': None}]\n",
      "1 [{'cast_id': 1, 'character': 'Mia Thermopolis', 'credit_id': '52fe43fe9251416c7502561f', 'gender': 1, 'id': 1813, 'name': 'Anne Hathaway', 'order': 0, 'profile_path': '/jUMOKwSUBnTcMeN1HfhutiY49Ad.jpg'}, {'cast_id': 2, 'character': 'Queen Clarisse Renaldi', 'credit_id': '52fe43fe9251416c75025623', 'gender': 1, 'id': 5823, 'name': 'Julie Andrews', 'order': 1, 'profile_path': '/6t61jkmfSA6nbYRCKR9s97CgUN6.jpg'}, {'cast_id': 3, 'character': 'Joe', 'credit_id': '52fe43fe9251416c75025627', 'gender': 2, 'id': 1210, 'name': 'H√©ctor Elizondo', 'order': 2, 'profile_path': '/48UNfVFZVr0jyMIlLPhzm8IIM7f.jpg'}, {'cast_id': 4, 'character': 'Viscount Mabrey', 'credit_id': '52fe43fe9251416c7502562b', 'gender': 2, 'id': 655, 'name': 'John Rhys-Davies', 'order': 3, 'profile_path': '/zZ67PuoFfik9QlZyfaEsFBC1yVJ.jpg'}, {'cast_id': 5, 'character': 'Lilly Moscovitz', 'credit_id': '52fe43fe9251416c7502562f', 'gender': 1, 'id': 33656, 'name': 'Heather Matarazzo', 'order': 4, 'profile_path': '/xcwR8aPuSkUCDPIyKU049M1CXph.jpg'}, {'cast_id': 6, 'character': 'Nicholas Devereaux', 'credit_id': '52fe43fe9251416c75025633', 'gender': 2, 'id': 62064, 'name': 'Chris Pine', 'order': 5, 'profile_path': '/vSe6sIsdtcoqBhuWRXynahFg8Vf.jpg'}, {'cast_id': 7, 'character': 'Andrew Jacoby', 'credit_id': '52fe43fe9251416c75025637', 'gender': 2, 'id': 68287, 'name': 'Callum Blue', 'order': 6, 'profile_path': '/3qf8rLoWmXOcCA8Rs9RPIEQ9yLB.jpg'}, {'cast_id': 17, 'character': 'Paolo', 'credit_id': '52fe43fe9251416c75025671', 'gender': 2, 'id': 1211, 'name': 'Larry Miller', 'order': 7, 'profile_path': '/xA8zCxNrwtamLaLWNBkLyX5tGtU.jpg'}, {'cast_id': 18, 'character': 'Asana', 'credit_id': '52fe43fe9251416c75025675', 'gender': 1, 'id': 66896, 'name': 'Raven-Symon√©', 'order': 8, 'profile_path': '/nzklI9bgqsUKVWlnQcT5lSrCyaM.jpg'}, {'cast_id': 19, 'character': 'Charlotte Kutaway', 'credit_id': '52fe43fe9251416c75025679', 'gender': 1, 'id': 303542, 'name': 'Kathleen Marshall', 'order': 9, 'profile_path': '/4ANxOHPa81aqLyP8BQxkwmZrWgK.jpg'}, {'cast_id': 21, 'character': \"Mia's Mom Helen\", 'credit_id': '5687f876c3a3685f8900e2a1', 'gender': 1, 'id': 6692, 'name': 'Caroline Goodall', 'order': 10, 'profile_path': '/f3L5WmEtGjjONTe8qvBZOy2dWTJ.jpg'}, {'cast_id': 20, 'character': 'Princess Lorraine', 'credit_id': '5687f825c3a36860e9023861', 'gender': 1, 'id': 966053, 'name': 'Lorraine Nicholson', 'order': 11, 'profile_path': '/eCsoySifBALa6UecWWQ6XShkkeV.jpg'}, {'cast_id': 22, 'character': 'Lady Salsa', 'credit_id': '56b67fc4c3a3680700009953', 'gender': 1, 'id': 95469, 'name': 'Shannon Wilcox', 'order': 12, 'profile_path': '/dQTvcWdLyB5RIWNQxk4DWn6ko59.jpg'}, {'cast_id': 23, 'character': 'Baron Siegfried von Troken', 'credit_id': '56c0ad8cc3a36817f400cc2d', 'gender': 2, 'id': 33832, 'name': 'Greg Lewis', 'order': 13, 'profile_path': '/ys6erqERBQhfTsvCiarmwH8daUm.jpg'}, {'cast_id': 24, 'character': 'Carolina', 'credit_id': '575e0b469251415dd2004e97', 'gender': 1, 'id': 17140, 'name': 'Abigail Breslin', 'order': 14, 'profile_path': '/5zM4beIvrFKICiJXhQCqY3ORngR.jpg'}, {'cast_id': 25, 'character': 'Lord Crawley', 'credit_id': '575e0bc1c3a3683731002094', 'gender': 2, 'id': 155403, 'name': 'Paul Vogt', 'order': 15, 'profile_path': None}, {'cast_id': 26, 'character': 'Monsieur Dupont', 'credit_id': '57c8cc429251410d5000019d', 'gender': 2, 'id': 1665036, 'name': 'Joseph Leo Bwarie', 'order': 16, 'profile_path': '/9H8u70pOBdk0xZsRcKIleBEAyLK.jpg'}, {'cast_id': 27, 'character': 'Lady Caroline', 'credit_id': '57dd9a1092514178550018e1', 'gender': 1, 'id': 83053, 'name': 'Hope Alexander-Willis', 'order': 17, 'profile_path': '/uMA3E1OUniek80LNbqf8ejK2edW.jpg'}, {'cast_id': 28, 'character': 'Lord Peroit', 'credit_id': '57eecf689251416cd60095c1', 'gender': 2, 'id': 1451161, 'name': 'Rowan Joseph', 'order': 18, 'profile_path': '/6zUforjrDfcPoP8YMsdIaoygHmz.jpg'}, {'cast_id': 29, 'character': 'Genovian Cafe Owner', 'credit_id': '57eed0ff9251415ddb00752b', 'gender': 2, 'id': 156005, 'name': 'Jeffrey Scott Jensen', 'order': 19, 'profile_path': '/mW0EwKomK5u3WSmkL60V2HWLhCu.jpg'}]\n",
      "2 [{'cast_id': 5, 'character': 'Andrew Neimann', 'credit_id': '52fe4ef7c3a36847f82b3fc3', 'gender': 2, 'id': 996701, 'name': 'Miles Teller', 'order': 0, 'profile_path': '/o2wfvYAvspsKqYVt4ORR8VWjB7H.jpg'}, {'cast_id': 6, 'character': 'Terence Fletcher', 'credit_id': '52fe4ef7c3a36847f82b3fc7', 'gender': 2, 'id': 18999, 'name': 'J.K. Simmons', 'order': 1, 'profile_path': '/jPoNW5fugs5h8AbcE7H5OBm04Tm.jpg'}, {'cast_id': 11, 'character': 'Nicole', 'credit_id': '52fe4ef7c3a36847f82b3fe3', 'gender': 1, 'id': 129104, 'name': 'Melissa Benoist', 'order': 2, 'profile_path': '/fj3Va0w2OyKaQALGomMgpq2B2Fu.jpg'}, {'cast_id': 12, 'character': 'Ryan', 'credit_id': '52fe4ef7c3a36847f82b3fe7', 'gender': 2, 'id': 970216, 'name': 'Austin Stowell', 'order': 3, 'profile_path': '/su6KMYwfr4qVXRjlXi4u0h16Fxg.jpg'}, {'cast_id': 13, 'character': 'Travis', 'credit_id': '52fe4ef7c3a36847f82b3feb', 'gender': 2, 'id': 223012, 'name': 'Jayson Blair', 'order': 4, 'profile_path': '/lqWVUUOBrv4ANxyvsv5aagc6CBq.jpg'}, {'cast_id': 14, 'character': 'Assistant - Sophie', 'credit_id': '52fe4ef7c3a36847f82b3fef', 'gender': 1, 'id': 159366, 'name': 'Kavita Patil', 'order': 5, 'profile_path': '/z5tSybvNYudaFK2db7bTw9tDqyP.jpg'}, {'cast_id': 15, 'character': 'Mr. Neyman', 'credit_id': '5466cd46eaeb817274000acb', 'gender': 2, 'id': 781, 'name': 'Paul Reiser', 'order': 6, 'profile_path': '/fr53dQQrDGfETgbliCktwKqteRU.jpg'}, {'cast_id': 22, 'character': 'Carl Tanner', 'credit_id': '5525414d925141720c001b56', 'gender': 0, 'id': 1451540, 'name': 'Nate Lang', 'order': 7, 'profile_path': None}, {'cast_id': 23, 'character': 'Uncle Frank', 'credit_id': '5525415fc3a3687df80016c4', 'gender': 2, 'id': 15824, 'name': 'Chris Mulkey', 'order': 8, 'profile_path': '/ibXN9Ho0nCF4jbGHeQYRHI8AMjH.jpg'}, {'cast_id': 24, 'character': 'Mr. Kramer', 'credit_id': '5525416c9251417276001927', 'gender': 2, 'id': 53454, 'name': 'Damon Gupton', 'order': 9, 'profile_path': '/8t8IBqQjRJkPcugmcAAn1C7J0pg.jpg'}, {'cast_id': 25, 'character': 'Aunt Emma', 'credit_id': '55254179c3a3687ded0016cf', 'gender': 0, 'id': 1212459, 'name': 'Suanne Spoke', 'order': 10, 'profile_path': None}, {'cast_id': 26, 'character': 'Dorm Neighbor', 'credit_id': '552541869251417be200a8f2', 'gender': 2, 'id': 52939, 'name': 'Max Kasch', 'order': 11, 'profile_path': '/4NzNJEJ6NWU40GKO6BS1Ne6ECNL.jpg'}, {'cast_id': 27, 'character': 'Dustin', 'credit_id': '552541959251415c7c00bd61', 'gender': 0, 'id': 1451542, 'name': 'Charlie Ian', 'order': 12, 'profile_path': None}, {'cast_id': 29, 'character': 'Bassist (Nassau)', 'credit_id': '552541ae925141720c001b71', 'gender': 2, 'id': 1451543, 'name': 'Kofi Siriboe', 'order': 14, 'profile_path': '/4qxcHkPIMUMZCW7UNH9kIfRndgS.jpg'}, {'cast_id': 31, 'character': 'Metz', 'credit_id': '552541c7c3a3687e08001774', 'gender': 0, 'id': 1451545, 'name': 'C.J. Vana', 'order': 16, 'profile_path': None}, {'cast_id': 32, 'character': 'Pianist (Studio Band)', 'credit_id': '55e6d136c3a3685f85002956', 'gender': 0, 'id': 171766, 'name': 'Tarik Lowe', 'order': 17, 'profile_path': '/ze1kaigQO0wLP4DtLnDIdqtfxtZ.jpg'}, {'cast_id': 33, 'character': 'Saxophonist #2 (Studio Band)', 'credit_id': '55e6d136c3a3685f98002c48', 'gender': 0, 'id': 1398714, 'name': 'Tyler Kimball', 'order': 18, 'profile_path': None}, {'cast_id': 34, 'character': 'Trumpeter #1 (Studio Band)', 'credit_id': '55e6d136c3a3685f8e002617', 'gender': 0, 'id': 1503721, 'name': 'Rogelio Douglas Jr.', 'order': 19, 'profile_path': '/j7NJ52wEo58siDpkzIWIKyC7DD5.jpg'}, {'cast_id': 35, 'character': 'Trumpeter #2 (Studio Band)', 'credit_id': '55e6d137c3a3685f9100272e', 'gender': 0, 'id': 1503834, 'name': 'Adrian Burks', 'order': 20, 'profile_path': None}, {'cast_id': 36, 'character': 'Technician (Overbrook) - Mike', 'credit_id': '55e6d1379251410f0a0026b6', 'gender': 0, 'id': 1503835, 'name': 'Joseph Bruno', 'order': 21, 'profile_path': None}, {'cast_id': 37, 'character': 'Stage Hand (Overbrook)', 'credit_id': '55e6d1379251410f0d002526', 'gender': 0, 'id': 1296849, 'name': 'Michael D. Cohen', 'order': 22, 'profile_path': None}, {'cast_id': 38, 'character': 'Passerby (Bus Station)', 'credit_id': '55e6d1389251410f10002836', 'gender': 1, 'id': 1098246, 'name': 'Jocelyn Ayanna', 'order': 23, 'profile_path': '/98oAzcosJLJHqHFENiWdnnv3n3J.jpg'}, {'cast_id': 39, 'character': 'Truck Driver', 'credit_id': '55e6d1389251410f0700274e', 'gender': 2, 'id': 1503836, 'name': 'Keenan Henson', 'order': 24, 'profile_path': None}, {'cast_id': 40, 'character': 'Passerby (Dunellen)', 'credit_id': '55e6d138c3a3685f8e00261a', 'gender': 0, 'id': 1503837, 'name': 'Janet Hoskins', 'order': 25, 'profile_path': None}, {'cast_id': 41, 'character': 'Rachel Bornholdt', 'credit_id': '55e6d138c3a3685f91002733', 'gender': 1, 'id': 10691, 'name': 'April Grace', 'order': 26, 'profile_path': '/9vHFcPQS463AjDgst7vFJy6ZUnA.jpg'}, {'cast_id': 42, 'character': 'Drummer (Quartet)', 'credit_id': '55e6d139c3a3685f98002c4c', 'gender': 0, 'id': 1503838, 'name': \"Clifton 'Fou Fou' Eddie\", 'order': 27, 'profile_path': None}, {'cast_id': 43, 'character': 'Saxophonist', 'credit_id': '55e6d22f9251410f1300293a', 'gender': 0, 'id': 1145677, 'name': 'Calvin C. Winbush', 'order': 28, 'profile_path': None}, {'cast_id': 44, 'character': 'Bassist (JVC)', 'credit_id': '55e6d22fc3a3685f98002c83', 'gender': 0, 'id': 1291961, 'name': 'Marcus Henderson', 'order': 29, 'profile_path': '/5ggLbrE91uYCq3YyN0pI3bDAPbK.jpg'}, {'cast_id': 45, 'character': 'Stage Hand (Carnegie Hall)', 'credit_id': '55e6d2309251410f17002943', 'gender': 0, 'id': 1503841, 'name': 'Tony Baker', 'order': 30, 'profile_path': None}, {'cast_id': 46, 'character': 'Red Henderson', 'credit_id': '55e6d230c3a3685f96002a6b', 'gender': 2, 'id': 16506, 'name': 'Henry G. Sanders', 'order': 31, 'profile_path': '/2SU75g2CAIzGWbgfIlNvKZQhYTZ.jpg'}, {'cast_id': 47, 'character': 'Andrew (8 years old)', 'credit_id': '55e6d2309251410f0a0026e0', 'gender': 0, 'id': 1503842, 'name': 'Sam Campisi', 'order': 32, 'profile_path': None}, {'cast_id': 48, 'character': 'Nassau Trumpeter #2', 'credit_id': '55e6d231c3a3685f96002a6e', 'gender': 0, 'id': 1503843, 'name': 'Jimmie Kirkpatrick', 'order': 33, 'profile_path': None}, {'cast_id': 49, 'character': 'Studio Core Member #1', 'credit_id': '55e6d2319251410f040027d9', 'gender': 0, 'id': 1503844, 'name': 'Keenan Allen', 'order': 34, 'profile_path': None}, {'cast_id': 50, 'character': 'Studio Core Member #2', 'credit_id': '55e6d2319251410f17002948', 'gender': 0, 'id': 1503845, 'name': 'Ayinde Vaughan', 'order': 35, 'profile_path': None}, {'cast_id': 51, 'character': 'Studio Core Member #3', 'credit_id': '55e6d231c3a3685f96002a72', 'gender': 0, 'id': 1435768, 'name': 'Shai Golan', 'order': 36, 'profile_path': None}, {'cast_id': 52, 'character': 'Studio Core Member #4', 'credit_id': '55e6d2329251410f1300293d', 'gender': 0, 'id': 1503846, 'name': 'Yancey Wells', 'order': 37, 'profile_path': None}, {'cast_id': 53, 'character': 'Student #1', 'credit_id': '55e6d232c3a3685f98002c86', 'gender': 0, 'id': 1503847, 'name': 'Candace Roberge', 'order': 38, 'profile_path': None}, {'cast_id': 54, 'character': 'Student #2', 'credit_id': '55e6d2329251410f13002943', 'gender': 0, 'id': 1503848, 'name': 'Krista Kilber', 'order': 39, 'profile_path': None}, {'cast_id': 55, 'character': 'Diner Patron (uncredited)', 'credit_id': '55e6d233c3a3685f96002a75', 'gender': 1, 'id': 1503849, 'name': 'Cici Leah Campbell', 'order': 40, 'profile_path': '/eV5g6RZ5OVVg2kEYkYu8MndanD6.jpg'}, {'cast_id': 56, 'character': 'JVC Trumpet Player (uncredited)', 'credit_id': '55e6d2339251410f040027de', 'gender': 0, 'id': 1503850, 'name': 'Damien Coates', 'order': 41, 'profile_path': None}, {'cast_id': 57, 'character': 'JVC Alto Jazz Saxophone Player (uncredited)', 'credit_id': '55e6d233c3a3685f8e00263c', 'gender': 0, 'id': 1503851, 'name': 'Kyle Julian Graham', 'order': 42, 'profile_path': None}, {'cast_id': 58, 'character': 'Saxophone Player (uncredited)', 'credit_id': '55e6d2349251410f040027e3', 'gender': 0, 'id': 1503852, 'name': 'Ellee Jane Hounsell', 'order': 43, 'profile_path': None}, {'cast_id': 59, 'character': 'JVC Guitarist (uncredited)', 'credit_id': '55e6d234c3a3685f98002c8c', 'gender': 2, 'id': 1503853, 'name': 'Stephen Hsu', 'order': 44, 'profile_path': None}, {'cast_id': 60, 'character': 'Music Competition Judge (uncredited)', 'credit_id': '55e6d234c3a3685f9100275a', 'gender': 0, 'id': 1503854, 'name': 'Herman Johansen', 'order': 45, 'profile_path': None}, {'cast_id': 61, 'character': 'Audience Member (uncredited)', 'credit_id': '55e6d234c3a3685f9e002777', 'gender': 1, 'id': 79051, 'name': 'Wendee Lee', 'order': 46, 'profile_path': '/4hZsZj6YItnzaXSHdsCxSDA3s4l.jpg'}, {'cast_id': 62, 'character': 'JVC Saxophonist (uncredited)', 'credit_id': '55e6d235c3a3685f9100275f', 'gender': 0, 'id': 1503855, 'name': 'Dakota Lupo', 'order': 47, 'profile_path': None}, {'cast_id': 63, 'character': 'Rival Band Saxophonist (uncredited)', 'credit_id': '55e6d2359251410f1000285a', 'gender': 0, 'id': 1503856, 'name': 'Jesse Mitchell', 'order': 48, 'profile_path': None}, {'cast_id': 64, 'character': 'JVC Trombonist (uncredited)', 'credit_id': '55e6d235c3a3685fa0002166', 'gender': 0, 'id': 1503857, 'name': 'Amanda Newman', 'order': 49, 'profile_path': None}, {'cast_id': 65, 'character': 'Bartender (uncredited)', 'credit_id': '55e6d2369251410f0d002555', 'gender': 2, 'id': 1360008, 'name': 'Joseph Oliveira', 'order': 50, 'profile_path': '/nFJX5qWKlHyew7AHKUFE3EQnMO5.jpg'}, {'cast_id': 66, 'character': 'Audience Member (uncredited)', 'credit_id': '55e6d236c3a3685f9e002779', 'gender': 1, 'id': 81380, 'name': 'Michelle Ruff', 'order': 51, 'profile_path': None}, {'cast_id': 67, 'character': 'Studio Band Saxophone Player (uncredited)', 'credit_id': '55e6d2369251410f0d002558', 'gender': 0, 'id': 1503858, 'name': 'Daniel Weidlein', 'order': 52, 'profile_path': None}]\n",
      "3 [{'cast_id': 1, 'character': 'Vidya Bagchi', 'credit_id': '52fe48779251416c9108d6d9', 'gender': 1, 'id': 35068, 'name': 'Vidya Balan', 'order': 0, 'profile_path': '/anMmmqKY11jcm0UnSSakfNOSCyB.jpg'}, {'cast_id': 5, 'character': '', 'credit_id': '57722abec3a368245b004519', 'gender': 2, 'id': 85047, 'name': 'Nawazuddin Siddiqui', 'order': 1, 'profile_path': '/2Kv2ENAs1ETAFTQ6mC1jbDzEzIN.jpg'}, {'cast_id': 6, 'character': '', 'credit_id': '57722aea9251411dca003f8f', 'gender': 0, 'id': 1021524, 'name': 'Parambrata Chatterjee', 'order': 2, 'profile_path': '/Aif4X9ihmRrVzX1cbWDDznk8HZV.jpg'}, {'cast_id': 7, 'character': '', 'credit_id': '57722b069251411dcd003f73', 'gender': 0, 'id': 1093644, 'name': 'Saswata Chatterjee', 'order': 3, 'profile_path': '/vuHaLzSVRIo7pXSmhB7ko6YmNs.jpg'}, {'cast_id': 8, 'character': '', 'credit_id': '57722b26c3a36869a2000745', 'gender': 0, 'id': 86033, 'name': 'Indraneil Sengupta', 'order': 4, 'profile_path': '/4hLg7XIJdhrS3t0h5Q8vQxnp4DZ.jpg'}, {'cast_id': 9, 'character': '', 'credit_id': '57722b38c3a3682468004294', 'gender': 2, 'id': 92686, 'name': 'Darshan Jariwala', 'order': 5, 'profile_path': '/lWDqLNG6FKNv4VSQILiRMPxJ7Hh.jpg'}, {'cast_id': 10, 'character': '', 'credit_id': '57722b549251411dd90041dd', 'gender': 0, 'id': 35821, 'name': 'Masood Akhtar', 'order': 6, 'profile_path': None}]\n",
      "4 [{'cast_id': 3, 'character': 'Chun-soo', 'credit_id': '52fe464b9251416c75073b47', 'gender': 2, 'id': 84751, 'name': 'Kim Kang-woo', 'order': 0, 'profile_path': '/lJvcgUx1qEnNfGcCtbmp3EC5vCG.jpg'}, {'cast_id': 4, 'character': 'Company president Kang', 'credit_id': '52fe464b9251416c75073b4b', 'gender': 2, 'id': 64453, 'name': 'Jo Jae-hyeon', 'order': 1, 'profile_path': '/2QVUP8t3zmKcwlm7IBOzPVikKe7.jpg'}, {'cast_id': 5, 'character': 'Yu-ri', 'credit_id': '52fe464b9251416c75073b4f', 'gender': 2, 'id': 84752, 'name': 'Park Si-yeon', 'order': 2, 'profile_path': '/pIWhmT2GTVcaNTb6Qta2KS9jyTT.jpg'}, {'cast_id': 7, 'character': 'Company president Hwang', 'credit_id': '52fe464b9251416c75073b59', 'gender': 2, 'id': 1130534, 'name': 'Kim Joon-bae', 'order': 3, 'profile_path': '/pMy3HSxj6DdysI1P2tpjcD4FyWM.jpg'}]\n"
     ]
    }
   ],
   "source": [
    "for i,e in enumerate(train['cast'][:5]):\n",
    "    print(i,e)"
   ]
  },
  {
   "cell_type": "markdown",
   "metadata": {},
   "source": [
    "- Just a massive dump of data..."
   ]
  },
  {
   "cell_type": "code",
   "execution_count": 78,
   "metadata": {},
   "outputs": [
    {
     "data": {
      "text/plain": [
       "[]                                                                                                                                                                                                                                                                                                                                                                                                                                                                                                                                                                                                                                                                                                                                                                                                                                                                                                                                                                                                                                                                                                                                                                                                                                                                                                                                                                                                                                                                                                                                                                                                                                                                                                                                                                                                                                                                                                                                                                                                                                                                                                                                                                                                                                                                                                                                                                                                                                                                                                                                                                                                                                                                                                                                                                                                                                                                                                                                                                                                                                                                                                                                                                                                                                                                                                                                                                                                                                                                                                                                                                                                                                                                                                                                                                                                                                                                                                                                                                                                                                                                                                                                                                                                                                                                                                                                                                                                                                                                                                                                                                                                                                                                                                                                                                                                                                                                                                                                                                                                                                                                                                                                                                                                                                                                                                                                                                                                                                                                                                                                                                                                                                                                                                                                                                                                                                                                                                                                                                                                                                                                                                                                                                                                                                                                                                                                                                                                                                                                                                                                                                                                                                                                                                                                                                                                                                                                                                                                                                                                                                                                                                                                                                                                                                                                                                                                                                                                                                                                                                                                                                                                                                                                                                                                                                                                                                                                                                                                                                                                                                                                                                                                                                                                                                                                                                                                                                                                                                                                                                                                                                                                                                                                                                                                                                                                                                                                                                                                                                                                                                                                                                                                                                                                                                                                                                                                                                                                                                                                                                                                                                                                                                                                                                                                                                                                                                                                                                                                                                                                                                                                                                                                                                                                                                                                                                                                                                                    13\n",
       "[{'cast_id': 8, 'character': 'Indiana Jones', 'credit_id': '52fe4216c3a36847f8002e1d', 'gender': 2, 'id': 3, 'name': 'Harrison Ford', 'order': 0, 'profile_path': '/7CcoVFTogQgex2kJkXKMe8qHZrC.jpg'}, {'cast_id': 9, 'character': 'Professor Henry Jones', 'credit_id': '52fe4216c3a36847f8002e21', 'gender': 2, 'id': 738, 'name': 'Sean Connery', 'order': 1, 'profile_path': '/ce84udJZ9QRSR44jxwK2apM3DM8.jpg'}, {'cast_id': 10, 'character': 'Dr. Marcus Brody', 'credit_id': '52fe4216c3a36847f8002e25', 'gender': 2, 'id': 656, 'name': 'Denholm Elliott', 'order': 2, 'profile_path': '/oR6GnGecov6Mjg0cLasCawyz3mF.jpg'}, {'cast_id': 11, 'character': 'Dr. Elsa Schneider', 'credit_id': '52fe4216c3a36847f8002e29', 'gender': 1, 'id': 739, 'name': 'Alison Doody', 'order': 3, 'profile_path': '/iXP0rdo8vRLU0YwWejFNwmEQtyV.jpg'}, {'cast_id': 12, 'character': 'Sallah', 'credit_id': '52fe4216c3a36847f8002e2d', 'gender': 2, 'id': 655, 'name': 'John Rhys-Davies', 'order': 4, 'profile_path': '/zZ67PuoFfik9QlZyfaEsFBC1yVJ.jpg'}, {'cast_id': 13, 'character': 'Walter Donovan', 'credit_id': '52fe4216c3a36847f8002e31', 'gender': 2, 'id': 740, 'name': 'Julian Glover', 'order': 5, 'profile_path': '/2sQWrB4of8O2k7DGwJ3OdGJi2Mj.jpg'}, {'cast_id': 14, 'character': 'Indiana Jones (young)', 'credit_id': '52fe4216c3a36847f8002e35', 'gender': 2, 'id': 741, 'name': 'River Phoenix', 'order': 6, 'profile_path': '/qfokbmRwRvmIVsLHScshxLPAB3C.jpg'}, {'cast_id': 15, 'character': 'Vogel', 'credit_id': '52fe4216c3a36847f8002e39', 'gender': 2, 'id': 742, 'name': 'Michael Byrne', 'order': 7, 'profile_path': '/rmgL88xFEk0iBOcCr7d9V6WfaOi.jpg'}, {'cast_id': 16, 'character': 'Kazim', 'credit_id': '52fe4216c3a36847f8002e3d', 'gender': 2, 'id': 743, 'name': 'Kevork Malikyan', 'order': 8, 'profile_path': '/aq3elIciFeSrvbVyDNeoozQqLnm.jpg'}, {'cast_id': 17, 'character': 'Grail Knight', 'credit_id': '52fe4216c3a36847f8002e41', 'gender': 2, 'id': 744, 'name': 'Robert Eddison', 'order': 9, 'profile_path': '/oONf8tM0Kxvg8CaLfpT7sx09Iug.jpg'}, {'cast_id': 18, 'character': 'Fedora', 'credit_id': '52fe4216c3a36847f8002e45', 'gender': 2, 'id': 745, 'name': 'Richard Young', 'order': 10, 'profile_path': '/WAnB3iXDZ5eOWOpDQBHr04ifiX.jpg'}, {'cast_id': 19, 'character': 'Sultan', 'credit_id': '52fe4216c3a36847f8002e49', 'gender': 2, 'id': 746, 'name': 'Alexei Sayle', 'order': 11, 'profile_path': '/goOvWKv1WoiPdPTmMsVSWsHHK2q.jpg'}, {'cast_id': 20, 'character': 'Panama Hat', 'credit_id': '52fe4216c3a36847f8002e4d', 'gender': 2, 'id': 748, 'name': 'Paul Maxwell', 'order': 12, 'profile_path': '/vioUXrSIz2OV0yWCPIJNZqHI9n0.jpg'}, {'cast_id': 21, 'character': 'Mrs. Donovan', 'credit_id': '52fe4216c3a36847f8002e51', 'gender': 1, 'id': 749, 'name': 'Isla Blair', 'order': 13, 'profile_path': '/aqHLIxtiB7TfFVp68vcQLVEdRNu.jpg'}, {'cast_id': 33, 'character': 'Butler', 'credit_id': '52fe4216c3a36847f8002e97', 'gender': 2, 'id': 649, 'name': 'Vernon Dobtcheff', 'order': 14, 'profile_path': '/lcPki2IDdmRvqiBbv2RUBfgm3IH.jpg'}, {'cast_id': 36, 'character': 'Young Henry', 'credit_id': '549936699251411f400008bc', 'gender': 0, 'id': 747, 'name': 'Alex Hyde-White', 'order': 15, 'profile_path': '/n51gvejj2jPn2rLLPC0mO47uGTL.jpg'}, {'cast_id': 37, 'character': 'Herman', 'credit_id': '54993af79251411f4300095c', 'gender': 0, 'id': 1402876, 'name': 'J. J. Hardy', 'order': 16, 'profile_path': '/oqT6ak0uvKHxdF2P5eZmYeRAkTx.jpg'}, {'cast_id': 38, 'character': 'Roscoe', 'credit_id': '54993c9ec3a368270a000943', 'gender': 2, 'id': 3039, 'name': 'Bradley Gregg', 'order': 17, 'profile_path': '/l4vc0U4XQ7t07pqekPPVehzs0R.jpg'}, {'cast_id': 39, 'character': 'Half Breed', 'credit_id': '54993e09c3a3682703000902', 'gender': 2, 'id': 1020340, 'name': \"Jeff O'Haco\", 'order': 18, 'profile_path': '/jxzZd6t8KhDx5aKkRJyBxgXWBM0.jpg'}, {'cast_id': 40, 'character': 'Rough Rider', 'credit_id': '54994086c3a368270a0009a0', 'gender': 2, 'id': 1402879, 'name': 'Vince Deadrick Sr.', 'order': 19, 'profile_path': '/vZQrgFgmMZShbOAg9WjulBGMWzo.jpg'}, {'cast_id': 41, 'character': 'Sheriff', 'credit_id': '549942979251411f400009ca', 'gender': 2, 'id': 1402887, 'name': 'Marc Miles', 'order': 20, 'profile_path': '/bAggC0KaaITXJ7daVaGDOcjZimy.jpg'}, {'cast_id': 42, 'character': 'Deputy Sheriff', 'credit_id': '549943629251411f400009e2', 'gender': 0, 'id': 8591, 'name': 'Ted Grossman', 'order': 21, 'profile_path': None}, {'cast_id': 43, 'character': 'Young Panama Hat', 'credit_id': '549944019251411f450009d0', 'gender': 0, 'id': 1402890, 'name': 'Tim Hiser', 'order': 22, 'profile_path': '/9b9QRZF3XmCTMAG7uWA7t78xpM.jpg'}, {'cast_id': 44, 'character': 'Scout Master', 'credit_id': '549944ce9251411f40000a03', 'gender': 0, 'id': 1402891, 'name': 'Larry Sanders', 'order': 23, 'profile_path': None}, {'cast_id': 45, 'character': 'Scout #1', 'credit_id': '549945789251411f5400098a', 'gender': 0, 'id': 1402892, 'name': 'Will Miles', 'order': 24, 'profile_path': '/2CN88cENaO3LsEdGHbBVJJVU4kr.jpg'}, {'cast_id': 46, 'character': 'Scout #2', 'credit_id': '5499464cc3a36826f8000b47', 'gender': 0, 'id': 1402893, 'name': 'David Murray', 'order': 25, 'profile_path': None}, {'cast_id': 48, 'character': 'Professor Stanton', 'credit_id': '54994d0a9251411f43000aed', 'gender': 0, 'id': 1270880, 'name': 'Jerry Harte', 'order': 27, 'profile_path': None}, {'cast_id': 49, 'character': 'Dr. Mulbray', 'credit_id': '54994e259251411f54000a2b', 'gender': 0, 'id': 55911, 'name': 'Billy J. Mitchell', 'order': 28, 'profile_path': None}, {'cast_id': 50, 'character': 'Man at Hitler Rally', 'credit_id': '54994f179251411f45000a9f', 'gender': 0, 'id': 1402913, 'name': 'Martin Gordon', 'order': 29, 'profile_path': '/1Fg4dyH10zfbMFcxAVYn0siNWa8.jpg'}, {'cast_id': 51, 'character': 'German Officer at Hitler Rally', 'credit_id': '549950519251411f40000ab3', 'gender': 0, 'id': 158674, 'name': 'Paul Humpoletz', 'order': 30, 'profile_path': '/mXHgh2NQvtktfYvHYwAHbTuEJHa.jpg'}, {'cast_id': 52, 'character': 'Hatay Soldier in Temple', 'credit_id': '549950c0c3a3682703000a7f', 'gender': 0, 'id': 1402917, 'name': 'Tom Branch', 'order': 31, 'profile_path': None}, {'cast_id': 53, 'character': 'Zeppelin Crewman', 'credit_id': '5499518fc3a36826f8000c22', 'gender': 0, 'id': 1402919, 'name': 'Graeme Crowther', 'order': 32, 'profile_path': None}, {'cast_id': 54, 'character': 'Principal SS Officer at Castle', 'credit_id': '549952679251411f43000b60', 'gender': 0, 'id': 1402922, 'name': 'Luke Hanson', 'order': 33, 'profile_path': None}, {'cast_id': 55, 'character': 'Officer at Castle', 'credit_id': '549952fb9251411f52000b48', 'gender': 0, 'id': 1402925, 'name': 'Chris Jenkinson', 'order': 34, 'profile_path': None}, {'cast_id': 56, 'character': 'Female Officer at Castle', 'credit_id': '549961a59251411f43000ce0', 'gender': 0, 'id': 1402957, 'name': 'Nicola Scott', 'order': 35, 'profile_path': None}, {'cast_id': 57, 'character': 'Young Officer at Castle', 'credit_id': '5499627a9251411f45000c54', 'gender': 0, 'id': 1402960, 'name': 'Louis Sheldon', 'order': 36, 'profile_path': None}, {'cast_id': 58, 'character': 'Hatay Tank Gunner', 'credit_id': '549964e39251411f54000c2e', 'gender': 2, 'id': 25079, 'name': 'Stefan Kalipha', 'order': 37, 'profile_path': '/g1mNJ1eTrVi5wD1d76kRnFWbn2h.jpg'}, {'cast_id': 59, 'character': 'Hatay Tank Driver', 'credit_id': '5499673dc3a368270e000bbc', 'gender': 0, 'id': 81030, 'name': 'Peter Pacey', 'order': 38, 'profile_path': None}, {'cast_id': 60, 'character': 'Gestapo', 'credit_id': '5499677a9251411f43000d89', 'gender': 2, 'id': 10942, 'name': 'Pat Roach', 'order': 39, 'profile_path': '/5YXmfgXqCjqEhmyjz1xhuWy8Zr4.jpg'}, {'cast_id': 61, 'character': 'Film Director', 'credit_id': '549968649251411f4b000cd6', 'gender': 1, 'id': 43496, 'name': 'Suzanne Roquette', 'order': 40, 'profile_path': None}, {'cast_id': 62, 'character': 'G-Man', 'credit_id': '54996a4bc3a36826f8000e69', 'gender': 2, 'id': 28871, 'name': 'Eugene Lipinski', 'order': 41, 'profile_path': '/rhpOJsibsqA4SG71GcH0LMfnygd.jpg'}, {'cast_id': 63, 'character': 'Man on Zeppelin', 'credit_id': '54996cc09251411f54000cde', 'gender': 2, 'id': 1229130, 'name': 'George Malpas', 'order': 42, 'profile_path': None}, {'cast_id': 64, 'character': 'Irene', 'credit_id': '54996d069251411f4b000d5a', 'gender': 0, 'id': 1402970, 'name': 'Julie Eccles', 'order': 43, 'profile_path': None}, {'cast_id': 65, 'character': 'Flower Girl', 'credit_id': '54996e31c3a3682707000c58', 'gender': 0, 'id': 1032068, 'name': 'Nina Armstrong', 'order': 44, 'profile_path': None}, {'cast_id': 67, 'character': 'Gestapo', 'credit_id': '571811829251411b090021d5', 'gender': 2, 'id': 653, 'name': 'Ronald Lacey', 'order': 45, 'profile_path': '/nQTtqJP7Go9cnvq9252IXqY9dMM.jpg'}, {'cast_id': 68, 'character': 'Tank Crewman Hit by Periscope (uncredited)', 'credit_id': '571811b09251412b37001f17', 'gender': 2, 'id': 7024, 'name': 'Nick Gillard', 'order': 46, 'profile_path': '/aJcxihOCfNBvr0FOiHEOyyVV7la.jpg'}, {'cast_id': 70, 'character': 'German Soldier (uncredited)', 'credit_id': '571811e4c3a3686c830024e6', 'gender': 2, 'id': 1271092, 'name': 'Derek Lyons', 'order': 47, 'profile_path': '/oO7dJlNLJhYyqdTsoUQAFXp1UQS.jpg'}, {'cast_id': 71, 'character': 'Passenger on Airship (uncredited)', 'credit_id': '571812189251411b090021e9', 'gender': 1, 'id': 1228240, 'name': 'Lee Richards', 'order': 48, 'profile_path': None}, {'cast_id': 72, 'character': 'Adolf Hitler (uncredited)', 'credit_id': '57181239c3a3687c2c002166', 'gender': 2, 'id': 70417, 'name': 'Michael Sheard', 'order': 49, 'profile_path': '/a29SbacT0kV8WWuoAMp2FHI5Y7I.jpg'}, {'cast_id': 73, 'character': 'Tank Crewman (uncredited)', 'credit_id': '5718125f9251413d30003c1a', 'gender': 2, 'id': 10213, 'name': 'Tip Tipping', 'order': 50, 'profile_path': '/66FK4lBsNfTiKoDhxUgilP5RK3O.jpg'}, {'cast_id': 99, 'character': 'World War One Ace', 'credit_id': '58887b77c3a36859e900d76b', 'gender': 2, 'id': 184862, 'name': 'Frederick Jaeger', 'order': 51, 'profile_path': '/5SPD1kRTlmLcc4bhWZs0xtKtvzk.jpg'}]     1\n",
       "Name: cast, dtype: int64"
      ]
     },
     "execution_count": 78,
     "metadata": {},
     "output_type": "execute_result"
    }
   ],
   "source": [
    "train.cast.value_counts().head(2)"
   ]
  },
  {
   "cell_type": "markdown",
   "metadata": {},
   "source": [
    "## crew"
   ]
  },
  {
   "cell_type": "code",
   "execution_count": null,
   "metadata": {},
   "outputs": [],
   "source": []
  },
  {
   "cell_type": "code",
   "execution_count": 19,
   "metadata": {},
   "outputs": [
    {
     "data": {
      "text/plain": [
       "\"[{'id': 35, 'name': 'Comedy'}]\""
      ]
     },
     "execution_count": 19,
     "metadata": {},
     "output_type": "execute_result"
    }
   ],
   "source": [
    "train.genres[0]"
   ]
  },
  {
   "cell_type": "code",
   "execution_count": 20,
   "metadata": {},
   "outputs": [
    {
     "data": {
      "text/plain": [
       "\"[{'id': 4379, 'name': 'time travel'}, {'id': 9663, 'name': 'sequel'}, {'id': 11830, 'name': 'hot tub'}, {'id': 179431, 'name': 'duringcreditsstinger'}]\""
      ]
     },
     "execution_count": 20,
     "metadata": {},
     "output_type": "execute_result"
    }
   ],
   "source": [
    "train.Keywords[0]                                                                                                                                         "
   ]
  },
  {
   "cell_type": "code",
   "execution_count": 21,
   "metadata": {},
   "outputs": [
    {
     "data": {
      "text/plain": [
       "\"[{'cast_id': 4, 'character': 'Lou', 'credit_id': '52fe4ee7c3a36847f82afae7', 'gender': 2, 'id': 52997, 'name': 'Rob Corddry', 'order': 0, 'profile_path': '/k2zJL0V1nEZuFT08xUdOd3ucfXz.jpg'}, {'cast_id': 5, 'character': 'Nick', 'credit_id': '52fe4ee7c3a36847f82afaeb', 'gender': 2, 'id': 64342, 'name': 'Craig Robinson', 'order': 1, 'profile_path': '/tVaRMkJXOEVhYxtnnFuhqW0Rjzz.jpg'}, {'cast_id': 6, 'character': 'Jacob', 'credit_id': '52fe4ee7c3a36847f82afaef', 'gender': 2, 'id': 54729, 'name': 'Clark Duke', 'order': 2, 'profile_path': '/oNzK0umwm5Wn0wyEbOy6TVJCSBn.jpg'}, {'cast_id': 7, 'character': 'Adam Jr.', 'credit_id': '52fe4ee7c3a36847f82afaf3', 'gender': 2, 'id': 36801, 'name': 'Adam Scott', 'order': 3, 'profile_path': '/5gb65xz8bzd42yjMAl4zwo4cvKw.jpg'}, {'cast_id': 8, 'character': 'Hot Tub Repairman', 'credit_id': '52fe4ee7c3a36847f82afaf7', 'gender': 2, 'id': 54812, 'name': 'Chevy Chase', 'order': 4, 'profile_path': '/svjpyYtPwtjvRxX9IZnOmOkhDOt.jpg'}, {'cast_id': 9, 'character': 'Jill', 'credit_id': '52fe4ee7c3a36847f82afafb', 'gender': 1, 'id': 94098, 'name': 'Gillian Jacobs', 'order': 5, 'profile_path': '/rBnhe5vhNPnhRUdtYahBWx90fJM.jpg'}, {'cast_id': 10, 'character': 'Sophie', 'credit_id': '52fe4ee7c3a36847f82afaff', 'gender': 1, 'id': 1159009, 'name': 'Bianca Haase', 'order': 6, 'profile_path': '/4x3nbtD8q8phAJPmoGWXPvz0iM.jpg'}, {'cast_id': 11, 'character': 'Kelly', 'credit_id': '5524ec51c3a3687df3000dbb', 'gender': 1, 'id': 86624, 'name': 'Collette Wolfe', 'order': 7, 'profile_path': '/aSD4h5379b2eEw3bLou9ByLimmq.jpg'}, {'cast_id': 13, 'character': 'Brad', 'credit_id': '5524ec8ec3a3687ded000d72', 'gender': 2, 'id': 466505, 'name': 'Kumail Nanjiani', 'order': 9, 'profile_path': '/x4nAztHY72SVciRfxEsbhIVTsIu.jpg'}, {'cast_id': 14, 'character': 'Courtney', 'credit_id': '5524ec9bc3a3687df8000d13', 'gender': 1, 'id': 70776, 'name': 'Kellee Stewart', 'order': 10, 'profile_path': '/w3xmsEPmJc1Cf0dQ4aIn8YmlHbk.jpg'}, {'cast_id': 15, 'character': 'Terry', 'credit_id': '5524eca892514171cb008237', 'gender': 2, 'id': 347335, 'name': 'Josh Heald', 'order': 11, 'profile_path': '/pwXJIenrDMrG7t3zNfLvr8w1RGU.jpg'}, {'cast_id': 16, 'character': 'Susan', 'credit_id': '5524ecb7925141720c001116', 'gender': 0, 'id': 1451392, 'name': 'Gretchen Koerner', 'order': 12, 'profile_path': '/muULPexCTJGyJba4yKzxronpD50.jpg'}, {'cast_id': 17, 'character': 'Herself', 'credit_id': '5524ecc3c3a3687ded000d74', 'gender': 1, 'id': 98879, 'name': 'Lisa Loeb', 'order': 13, 'profile_path': '/bGqg58ca0bZR38z9HliUMmeNGE.jpg'}, {'cast_id': 18, 'character': 'Herself', 'credit_id': '5524ecd3c3a3687e11000ed3', 'gender': 1, 'id': 1394648, 'name': 'Jessica Williams', 'order': 14, 'profile_path': '/A4syKjkcYB92wLEhH0c0hC3BCpz.jpg'}, {'cast_id': 19, 'character': 'Himself', 'credit_id': '5524ece6925141718d001009', 'gender': 0, 'id': 1451393, 'name': 'Bruce Buffer', 'order': 15, 'profile_path': None}, {'cast_id': 20, 'character': 'Shot Girl', 'credit_id': '5524ecf5c3a3687e08000dc2', 'gender': 0, 'id': 1451394, 'name': 'Mariana Paola Vicente', 'order': 16, 'profile_path': '/ckPllza8624UHWGHCbLShkLxCD1.jpg'}, {'cast_id': 33, 'character': 'Choozy Doozy Host', 'credit_id': '555844da9251412afe0013a9', 'gender': 2, 'id': 2224, 'name': 'Christian Slater', 'order': 17, 'profile_path': '/3ElLWjnvchMS6Q4cIQOK8QNAoMG.jpg'}, {'cast_id': 35, 'character': 'Gary Winkle', 'credit_id': '55872027c3a3683853005074', 'gender': 0, 'id': 185805, 'name': 'Jason Jones', 'order': 18, 'profile_path': '/aIoCw6vo8AGMdsQRAI5g2t0yJT3.jpg'}, {'cast_id': 36, 'character': 'Bridesmaid', 'credit_id': '55efe971c3a368090c00cd1b', 'gender': 0, 'id': 1507448, 'name': 'Olivia Jordan', 'order': 19, 'profile_path': '/szMukAEiIDeasel0lvyaeyKuych.jpg'}, {'cast_id': 37, 'character': 'Christine', 'credit_id': '55efe980c3a36871bf008176', 'gender': 1, 'id': 1334091, 'name': 'Christine Bently', 'order': 20, 'profile_path': '/oUZltnGa55OXE52hfyPTfCshuNy.jpg'}, {'cast_id': 38, 'character': 'Excited Girl', 'credit_id': '55efe98e9251413e3201d316', 'gender': 0, 'id': 557803, 'name': 'Stacey Asaro', 'order': 21, 'profile_path': '/qTPdlr1dXf3kNdyHuDsgtGC0HCC.jpg'}, {'cast_id': 64, 'character': 'Adam (uncredited)', 'credit_id': '58f2135ac3a3682e95008b91', 'gender': 2, 'id': 3036, 'name': 'John Cusack', 'order': 22, 'profile_path': '/uKydQYuZ9TnCzvbQLtj6j98vWAT.jpg'}, {'cast_id': 65, 'character': 'J-Bird', 'credit_id': '59ac0240c3a3682cc802c399', 'gender': 2, 'id': 59256, 'name': 'Adam Herschman', 'order': 23, 'profile_path': '/wZMwiuX1DslF6hDS50z9OTN6z1X.jpg'}, {'cast_id': 66, 'character': 'Bridesmaid', 'credit_id': '59ac02cd925141079d02b1b4', 'gender': 1, 'id': 129714, 'name': 'Kisha Sierra', 'order': 24, 'profile_path': None}]\""
      ]
     },
     "execution_count": 21,
     "metadata": {},
     "output_type": "execute_result"
    }
   ],
   "source": [
    "train.cast[0]"
   ]
  },
  {
   "cell_type": "code",
   "execution_count": 22,
   "metadata": {},
   "outputs": [
    {
     "data": {
      "text/plain": [
       "'[{\\'credit_id\\': \\'59ac067c92514107af02c8c8\\', \\'department\\': \\'Directing\\', \\'gender\\': 0, \\'id\\': 1449071, \\'job\\': \\'First Assistant Director\\', \\'name\\': \\'Kelly Cantley\\', \\'profile_path\\': None}, {\\'credit_id\\': \\'52fe4ee7c3a36847f82afad7\\', \\'department\\': \\'Directing\\', \\'gender\\': 2, \\'id\\': 3227, \\'job\\': \\'Director\\', \\'name\\': \\'Steve Pink\\', \\'profile_path\\': \\'/myHOgo8mQSCiCAZNGMRdHVr03jr.jpg\\'}, {\\'credit_id\\': \\'5524ed25c3a3687ded000d88\\', \\'department\\': \\'Writing\\', \\'gender\\': 2, \\'id\\': 347335, \\'job\\': \\'Writer\\', \\'name\\': \\'Josh Heald\\', \\'profile_path\\': \\'/pwXJIenrDMrG7t3zNfLvr8w1RGU.jpg\\'}, {\\'credit_id\\': \\'5524ed2d925141720c001128\\', \\'department\\': \\'Writing\\', \\'gender\\': 2, \\'id\\': 347335, \\'job\\': \\'Characters\\', \\'name\\': \\'Josh Heald\\', \\'profile_path\\': \\'/pwXJIenrDMrG7t3zNfLvr8w1RGU.jpg\\'}, {\\'credit_id\\': \\'5524ed3d92514166c1004a5d\\', \\'department\\': \\'Production\\', \\'gender\\': 2, \\'id\\': 57822, \\'job\\': \\'Producer\\', \\'name\\': \\'Andrew Panay\\', \\'profile_path\\': None}, {\\'credit_id\\': \\'5524ed4bc3a3687df3000dd2\\', \\'department\\': \\'Production\\', \\'gender\\': 0, \\'id\\': 1451395, \\'job\\': \\'Associate Producer\\', \\'name\\': \\'Adam Blum\\', \\'profile_path\\': None}, {\\'credit_id\\': \\'5524ed5a925141720c00112c\\', \\'department\\': \\'Production\\', \\'gender\\': 2, \\'id\\': 52997, \\'job\\': \\'Executive Producer\\', \\'name\\': \\'Rob Corddry\\', \\'profile_path\\': \\'/k2zJL0V1nEZuFT08xUdOd3ucfXz.jpg\\'}, {\\'credit_id\\': \\'5524ed85c3a3687e0e000f56\\', \\'department\\': \\'Production\\', \\'gender\\': 0, \\'id\\': 62807, \\'job\\': \\'Executive Producer\\', \\'name\\': \\'Ben Ormand\\', \\'profile_path\\': None}, {\\'credit_id\\': \\'5524ed9fc3a3687e0e000f59\\', \\'department\\': \\'Sound\\', \\'gender\\': 2, \\'id\\': 23486, \\'job\\': \\'Original Music Composer\\', \\'name\\': \\'Christophe Beck\\', \\'profile_path\\': \\'/2fnJUmCk6IEpVIptpYaUk31epHx.jpg\\'}, {\\'credit_id\\': \\'5524eda6c3a3687e03000d28\\', \\'department\\': \\'Camera\\', \\'gender\\': 2, \\'id\\': 6117, \\'job\\': \\'Director of Photography\\', \\'name\\': \\'Declan Quinn\\', \\'profile_path\\': None}, {\\'credit_id\\': \\'5524edb4925141720c00113d\\', \\'department\\': \\'Editing\\', \\'gender\\': 0, \\'id\\': 1451396, \\'job\\': \\'Editor\\', \\'name\\': \\'Jamie Gross\\', \\'profile_path\\': None}, {\\'credit_id\\': \\'5524edc1925141727600102e\\', \\'department\\': \\'Production\\', \\'gender\\': 0, \\'id\\': 22219, \\'job\\': \\'Casting\\', \\'name\\': \\'Susie Farris\\', \\'profile_path\\': None}, {\\'credit_id\\': \\'5524edd192514171cb008257\\', \\'department\\': \\'Art\\', \\'gender\\': 0, \\'id\\': 1002643, \\'job\\': \\'Production Design\\', \\'name\\': \\'Ryan Berg\\', \\'profile_path\\': None}, {\\'credit_id\\': \\'555ad9be9251411e5b00d485\\', \\'department\\': \\'Production\\', \\'gender\\': 2, \\'id\\': 57431, \\'job\\': \\'Executive Producer\\', \\'name\\': \\'Matt Moore\\', \\'profile_path\\': None}, {\\'credit_id\\': \\'5677e93bc3a36816890087dc\\', \\'department\\': \\'Directing\\', \\'gender\\': 0, \\'id\\': 1551818, \\'job\\': \\'Script Supervisor\\', \\'name\\': \\'Nicole Garcea\\', \\'profile_path\\': None}, {\\'credit_id\\': \\'5677e96a92514179e10093d0\\', \\'department\\': \\'Production\\', \\'gender\\': 0, \\'id\\': 1551819, \\'job\\': \\'Production Coordinator\\', \\'name\\': \\'Jason Salzman\\', \\'profile_path\\': None}, {\\'credit_id\\': \\'5677e98492514179d2008cd9\\', \\'department\\': \\'Costume & Make-Up\\', \\'gender\\': 0, \\'id\\': 1422996, \\'job\\': \\'Costume Design\\', \\'name\\': \\'Carol Cutshall\\', \\'profile_path\\': None}, {\\'credit_id\\': \\'5677e9d5c3a368168e009414\\', \\'department\\': \\'Art\\', \\'gender\\': 2, \\'id\\': 500199, \\'job\\': \\'Set Decoration\\', \\'name\\': \\'Tim Cohn\\', \\'profile_path\\': None}, {\\'credit_id\\': \\'5677f89d9251417845001a61\\', \\'department\\': \\'Costume & Make-Up\\', \\'gender\\': 0, \\'id\\': 1527917, \\'job\\': \\'Hair Department Head\\', \\'name\\': \\'Voni Hinkle\\', \\'profile_path\\': None}, {\\'credit_id\\': \\'5677f8b392514179dd0089fb\\', \\'department\\': \\'Costume & Make-Up\\', \\'gender\\': 0, \\'id\\': 1431554, \\'job\\': \\'Makeup Department Head\\', \\'name\\': \\'Remi Savva\\', \\'profile_path\\': None}, {\\'credit_id\\': \\'5677f8d1c3a3681689008a4b\\', \\'department\\': \\'Art\\', \\'gender\\': 0, \\'id\\': 66495, \\'job\\': \\'Art Direction\\', \\'name\\': \\'Jason Baldwin Stewart\\', \\'profile_path\\': None}, {\\'credit_id\\': \\'5677f8eec3a3681685008dd5\\', \\'department\\': \\'Production\\', \\'gender\\': 0, \\'id\\': 1412466, \\'job\\': \\'Production Supervisor\\', \\'name\\': \\'Korey Budd\\', \\'profile_path\\': None}, {\\'credit_id\\': \\'5677f90a9251417845001a7d\\', \\'department\\': \\'Sound\\', \\'gender\\': 0, \\'id\\': 1401562, \\'job\\': \\'Sound Re-Recording Mixer\\', \\'name\\': \\'Gary C. Bourgeois\\', \\'profile_path\\': None}, {\\'credit_id\\': \\'5677f91e9251417845001a84\\', \\'department\\': \\'Sound\\', \\'gender\\': 0, \\'id\\': 1396794, \\'job\\': \\'Sound Re-Recording Mixer\\', \\'name\\': \\'Gabriel J. Serrano\\', \\'profile_path\\': None}, {\\'credit_id\\': \\'5677f938c3a3681680008dd4\\', \\'department\\': \\'Editing\\', \\'gender\\': 0, \\'id\\': 13168, \\'job\\': \\'Dialogue Editor\\', \\'name\\': \\'Victoria Rose Sampson\\', \\'profile_path\\': None}, {\\'credit_id\\': \\'5677f94e92514179dd008a1f\\', \\'department\\': \\'Sound\\', \\'gender\\': 0, \\'id\\': 1551839, \\'job\\': \\'Production Sound Mixer\\', \\'name\\': \\'Michael B. Koff\\', \\'profile_path\\': None}, {\\'credit_id\\': \\'5677f968c3a368168e009698\\', \\'department\\': \\'Sound\\', \\'gender\\': 0, \\'id\\': 113052, \\'job\\': \\'Sound Effects Editor\\', \\'name\\': \\'Randall Guth\\', \\'profile_path\\': None}, {\\'credit_id\\': \\'5677f98dc3a3681685008e02\\', \\'department\\': \\'Crew\\', \\'gender\\': 2, \\'id\\': 1442535, \\'job\\': \\'Stunt Coordinator\\', \\'name\\': \\'Chuck Picerni Jr.\\', \\'profile_path\\': \\'/yE5QtXUzcrnCzMRctZL8F5g842B.jpg\\'}, {\\'credit_id\\': \\'5677f9a692514179dd008a49\\', \\'department\\': \\'Camera\\', \\'gender\\': 0, \\'id\\': 1437305, \\'job\\': \\'Camera Operator\\', \\'name\\': \\'Michael Applebaum\\', \\'profile_path\\': None}, {\\'credit_id\\': \\'5677f9bd9251417845001aae\\', \\'department\\': \\'Camera\\', \\'gender\\': 0, \\'id\\': 1401765, \\'job\\': \\'Still Photographer\\', \\'name\\': \\'Steve Dietl\\', \\'profile_path\\': None}, {\\'credit_id\\': \\'5677f9e592514179e7008bf7\\', \\'department\\': \\'Lighting\\', \\'gender\\': 0, \\'id\\': 1402721, \\'job\\': \\'Rigging Gaffer\\', \\'name\\': \\'Tarik Naim Alherimi\\', \\'profile_path\\': None}, {\\'credit_id\\': \\'5677f9f4c3a368167c0090ed\\', \\'department\\': \\'Lighting\\', \\'gender\\': 0, \\'id\\': 1402719, \\'job\\': \\'Gaffer\\', \\'name\\': \\'Paul Olinde\\', \\'profile_path\\': None}, {\\'credit_id\\': \\'5677fa21c3a368168e0096ca\\', \\'department\\': \\'Sound\\', \\'gender\\': 0, \\'id\\': 1551840, \\'job\\': \\'Music Supervisor\\', \\'name\\': \\'Steve Griffen\\', \\'profile_path\\': None}, {\\'credit_id\\': \\'5677fa31c3a3681680008e04\\', \\'department\\': \\'Sound\\', \\'gender\\': 0, \\'id\\': 1551841, \\'job\\': \\'Music Editor\\', \\'name\\': \\'Matt Fausak\\', \\'profile_path\\': None}, {\\'credit_id\\': \\'5677fa4392514179dd008a76\\', \\'department\\': \\'Sound\\', \\'gender\\': 0, \\'id\\': 1551840, \\'job\\': \\'Music Editor\\', \\'name\\': \\'Steve Griffen\\', \\'profile_path\\': None}, {\\'credit_id\\': \\'5677fa609251417845001acf\\', \\'department\\': \\'Costume & Make-Up\\', \\'gender\\': 0, \\'id\\': 1403416, \\'job\\': \\'Costume Supervisor\\', \\'name\\': \\'Shonta T. McCray\\', \\'profile_path\\': None}, {\\'credit_id\\': \\'5677fa8492514179d2008fb3\\', \\'department\\': \\'Camera\\', \\'gender\\': 0, \\'id\\': 1425831, \\'job\\': \\'Steadicam Operator\\', \\'name\\': \\'Mark Karavite\\', \\'profile_path\\': None}, {\\'credit_id\\': \\'5677fab2c3a3681689008ac3\\', \\'department\\': \\'Camera\\', \\'gender\\': 0, \\'id\\': 1551842, \\'job\\': \\'First Assistant Camera\\', \\'name\\': \\'Joe Waistell\\', \\'profile_path\\': None}, {\\'credit_id\\': \\'5677faecc3a368168e0096fe\\', \\'department\\': \\'Sound\\', \\'gender\\': 0, \\'id\\': 58362, \\'job\\': \\'Supervising Sound Editor\\', \\'name\\': \\'Michael Hilkene\\', \\'profile_path\\': None}, {\\'credit_id\\': \\'59ac0368c3a3682c0a02c484\\', \\'department\\': \\'Crew\\', \\'gender\\': 0, \\'id\\': 1881584, \\'job\\': \\'Additional Writing\\', \\'name\\': \\'John Karnay\\', \\'profile_path\\': None}, {\\'credit_id\\': \\'59ac0411c3a3682bf0028966\\', \\'department\\': \\'Costume & Make-Up\\', \\'gender\\': 0, \\'id\\': 1431552, \\'job\\': \\'Hairstylist\\', \\'name\\': \\'Daina Daigle\\', \\'profile_path\\': None}, {\\'credit_id\\': \\'59ac0504925141072302b8fb\\', \\'department\\': \\'Costume & Make-Up\\', \\'gender\\': 0, \\'id\\': 1712001, \\'job\\': \\'Makeup Artist\\', \\'name\\': \\'Allison Gordin\\', \\'profile_path\\': None}, {\\'credit_id\\': \\'59ac0570c3a3682bf0028aac\\', \\'department\\': \\'Costume & Make-Up\\', \\'gender\\': 0, \\'id\\': 578725, \\'job\\': \\'Makeup Artist\\', \\'name\\': \\'Darryl Lucas\\', \\'profile_path\\': None}, {\\'credit_id\\': \\'59ac05a4925141077e02c97e\\', \\'department\\': \\'Costume & Make-Up\\', \\'gender\\': 0, \\'id\\': 1463274, \\'job\\': \\'Makeup Artist\\', \\'name\\': \\'Annabelle MacNeal\\', \\'profile_path\\': None}, {\\'credit_id\\': \\'59ac05c6925141076502d106\\', \\'department\\': \\'Costume & Make-Up\\', \\'gender\\': 0, \\'id\\': 1881586, \\'job\\': \\'Makeup Artist\\', \\'name\\': \\'Marina Savva\\', \\'profile_path\\': None}, {\\'credit_id\\': \\'59ac0615c3a3682c480296aa\\', \\'department\\': \\'Costume & Make-Up\\', \\'gender\\': 0, \\'id\\': 1406267, \\'job\\': \\'Hairstylist\\', \\'name\\': \\'Carl G. Variste\\', \\'profile_path\\': None}, {\\'credit_id\\': \\'59ac06ba925141076502d1fa\\', \\'department\\': \\'Directing\\', \\'gender\\': 0, \\'id\\': 1798593, \\'job\\': \\'First Assistant Director\\', \\'name\\': \\'Josh King\\', \\'profile_path\\': None}, {\\'credit_id\\': \\'59ac06f1c3a3682c2202aca0\\', \\'department\\': \\'Art\\', \\'gender\\': 0, \\'id\\': 1415083, \\'job\\': \\'Greensman\\', \\'name\\': \\'Scott C. Bivona\\', \\'profile_path\\': None}, {\\'credit_id\\': \\'59ac072c925141076502d260\\', \\'department\\': \\'Art\\', \\'gender\\': 0, \\'id\\': 1881587, \\'job\\': \\'Title Designer\\', \\'name\\': \\'Eunha Choi\\', \\'profile_path\\': None}, {\\'credit_id\\': \\'59ac077c925141077e02cb62\\', \\'department\\': \\'Art\\', \\'gender\\': 0, \\'id\\': 1585302, \\'job\\': \\'Construction Coordinator\\', \\'name\\': \\'Daniel Coe\\', \\'profile_path\\': None}, {\\'credit_id\\': \\'59ac07e0925141078a02d842\\', \\'department\\': \\'Art\\', \\'gender\\': 0, \\'id\\': 1495523, \\'job\\': \\'Set Designer\\', \\'name\\': \\'Spencer Davison\\', \\'profile_path\\': None}, {\\'credit_id\\': \\'59ac0862925141072f02cf6f\\', \\'department\\': \\'Art\\', \\'gender\\': 0, \\'id\\': 1881589, \\'job\\': \\'Painter\\', \\'name\\': \\'Sonia L. Garcia\\', \\'profile_path\\': None}, {\\'credit_id\\': \\'59ac08e0c3a3682bf0028e51\\', \\'department\\': \\'Art\\', \\'gender\\': 0, \\'id\\': 1424896, \\'job\\': \\'Art Department Coordinator\\', \\'name\\': \\'Caleb Guillotte\\', \\'profile_path\\': None}, {\\'credit_id\\': \\'59ac0920c3a3682c2202af36\\', \\'department\\': \\'Art\\', \\'gender\\': 0, \\'id\\': 1393375, \\'job\\': \\'Leadman\\', \\'name\\': \"Pat A. O\\'Connor\", \\'profile_path\\': None}, {\\'credit_id\\': \\'59ac095592514107af02cc39\\', \\'department\\': \\'Art\\', \\'gender\\': 0, \\'id\\': 1881592, \\'job\\': \\'Set Designer\\', \\'name\\': \\'Brendan Turrill\\', \\'profile_path\\': None}, {\\'credit_id\\': \\'59ac0989925141072302bdfa\\', \\'department\\': \\'Art\\', \\'gender\\': 2, \\'id\\': 76497, \\'job\\': \\'Property Master\\', \\'name\\': \\'Brook Yeaton\\', \\'profile_path\\': None}, {\\'credit_id\\': \\'59ac0a2cc3a3682c9c02add1\\', \\'department\\': \\'Sound\\', \\'gender\\': 0, \\'id\\': 1881596, \\'job\\': \\'Boom Operator\\', \\'name\\': \\'Matthew Armstrong\\', \\'profile_path\\': None}, {\\'credit_id\\': \\'59ac0aa8925141072f02d282\\', \\'department\\': \\'Visual Effects\\', \\'gender\\': 2, \\'id\\': 1558086, \\'job\\': \\'Special Effects Supervisor\\', \\'name\\': \\'Matt Kutcher\\', \\'profile_path\\': None}, {\\'credit_id\\': \\'59ac0b2ac3a3682c2202b192\\', \\'department\\': \\'Crew\\', \\'gender\\': 2, \\'id\\': 1558087, \\'job\\': \\'Special Effects Coordinator\\', \\'name\\': \\'Eric Roberts\\', \\'profile_path\\': None}, {\\'credit_id\\': \\'59ac0b7ac3a3682c2202b1fb\\', \\'department\\': \\'Visual Effects\\', \\'gender\\': 0, \\'id\\': 1392098, \\'job\\': \\'Visual Effects Supervisor\\', \\'name\\': \\'Rocco Passionino\\', \\'profile_path\\': None}, {\\'credit_id\\': \\'59ac0bbe925141077e02d0c4\\', \\'department\\': \\'Visual Effects\\', \\'gender\\': 0, \\'id\\': 1558716, \\'job\\': \\'Visual Effects Coordinator\\', \\'name\\': \\'Joseph Payo\\', \\'profile_path\\': None}, {\\'credit_id\\': \\'59ac0bf2c3a3682cc802cefa\\', \\'department\\': \\'Visual Effects\\', \\'gender\\': 0, \\'id\\': 1408784, \\'job\\': \\'Visual Effects Producer\\', \\'name\\': \\'Chris Roff\\', \\'profile_path\\': None}, {\\'credit_id\\': \\'59ac0c51c3a3682c48029d99\\', \\'department\\': \\'Lighting\\', \\'gender\\': 0, \\'id\\': 1881600, \\'job\\': \\'Best Boy Electric\\', \\'name\\': \\'Ulyan Atamanyuk\\', \\'profile_path\\': None}, {\\'credit_id\\': \\'59ac0cbac3a3682c0a02cff6\\', \\'department\\': \\'Camera\\', \\'gender\\': 0, \\'id\\': 1881602, \\'job\\': \\'Key Grip\\', \\'name\\': \\'Chris Ekstrom\\', \\'profile_path\\': None}, {\\'credit_id\\': \\'59ac0d54925141072f02d5e6\\', \\'department\\': \\'Lighting\\', \\'gender\\': 0, \\'id\\': 1484984, \\'job\\': \\'Best Boy Electric\\', \\'name\\': \\'Brad Garris\\', \\'profile_path\\': None}, {\\'credit_id\\': \\'59ac0db0925141078a02df86\\', \\'department\\': \\'Camera\\', \\'gender\\': 0, \\'id\\': 1881603, \\'job\\': \\'Dolly Grip\\', \\'name\\': \\'Kendell Joseph\\', \\'profile_path\\': None}, {\\'credit_id\\': \\'59ac0e5a925141077e02d39f\\', \\'department\\': \\'Camera\\', \\'gender\\': 0, \\'id\\': 1549179, \\'job\\': \\'Dolly Grip\\', \\'name\\': \\'Spencer Wilcox\\', \\'profile_path\\': None}, {\\'credit_id\\': \\'59ac0e9f925141079d02bee6\\', \\'department\\': \\'Costume & Make-Up\\', \\'gender\\': 0, \\'id\\': 1552626, \\'job\\': \\'Key Costumer\\', \\'name\\': \\'Sarah P. Koeppe\\', \\'profile_path\\': None}, {\\'credit_id\\': \\'59ac0ec1c3a3682bf0029524\\', \\'department\\': \\'Costume & Make-Up\\', \\'gender\\': 0, \\'id\\': 1881605, \\'job\\': \\'Seamstress\\', \\'name\\': \\'Catherine Rodi\\', \\'profile_path\\': None}, {\\'credit_id\\': \\'59ac0eef925141070702c7ff\\', \\'department\\': \\'Costume & Make-Up\\', \\'gender\\': 0, \\'id\\': 1463801, \\'job\\': \\'Seamstress\\', \\'name\\': \\'Giselle Spence\\', \\'profile_path\\': None}, {\\'credit_id\\': \\'59ac0f5dc3a3682c4802a0f5\\', \\'department\\': \\'Production\\', \\'gender\\': 0, \\'id\\': 1400837, \\'job\\': \\'Location Manager\\', \\'name\\': \\'John A. Johnston\\', \\'profile_path\\': None}, {\\'credit_id\\': \\'59ac0ff2c3a3682c4802a196\\', \\'department\\': \\'Crew\\', \\'gender\\': 0, \\'id\\': 1844322, \\'job\\': \\'Production Controller\\', \\'name\\': \\'Gail Marks\\', \\'profile_path\\': None}]'"
      ]
     },
     "execution_count": 22,
     "metadata": {},
     "output_type": "execute_result"
    }
   ],
   "source": [
    "train.crew[0]"
   ]
  },
  {
   "cell_type": "code",
   "execution_count": 23,
   "metadata": {},
   "outputs": [
    {
     "ename": "KeyError",
     "evalue": "\"['belongs_to_collection'] not found in axis\"",
     "output_type": "error",
     "traceback": [
      "\u001b[0;31m---------------------------------------------------------------------------\u001b[0m",
      "\u001b[0;31mKeyError\u001b[0m                                  Traceback (most recent call last)",
      "\u001b[0;32m<ipython-input-23-d25f5281fd96>\u001b[0m in \u001b[0;36m<module>\u001b[0;34m\u001b[0m\n\u001b[0;32m----> 1\u001b[0;31m \u001b[0mdf\u001b[0m \u001b[0;34m=\u001b[0m \u001b[0mprepare\u001b[0m\u001b[0;34m.\u001b[0m\u001b[0mprepare_data\u001b[0m\u001b[0;34m(\u001b[0m\u001b[0mtrain\u001b[0m\u001b[0;34m)\u001b[0m\u001b[0;34m\u001b[0m\u001b[0;34m\u001b[0m\u001b[0m\n\u001b[0m",
      "\u001b[0;32m~/projects/box-office-prediction/prepare.py\u001b[0m in \u001b[0;36mprepare_data\u001b[0;34m(df)\u001b[0m\n\u001b[1;32m     54\u001b[0m \u001b[0;34m\u001b[0m\u001b[0m\n\u001b[1;32m     55\u001b[0m \u001b[0;32mdef\u001b[0m \u001b[0mprepare_data\u001b[0m\u001b[0;34m(\u001b[0m\u001b[0mdf\u001b[0m\u001b[0;34m)\u001b[0m\u001b[0;34m:\u001b[0m\u001b[0;34m\u001b[0m\u001b[0;34m\u001b[0m\u001b[0m\n\u001b[0;32m---> 56\u001b[0;31m     \u001b[0mprep_belong\u001b[0m\u001b[0;34m(\u001b[0m\u001b[0mdf\u001b[0m\u001b[0;34m)\u001b[0m\u001b[0;34m\u001b[0m\u001b[0;34m\u001b[0m\u001b[0m\n\u001b[0m\u001b[1;32m     57\u001b[0m     \u001b[0mprep_homepage\u001b[0m\u001b[0;34m(\u001b[0m\u001b[0mdf\u001b[0m\u001b[0;34m)\u001b[0m\u001b[0;34m\u001b[0m\u001b[0;34m\u001b[0m\u001b[0m\n\u001b[1;32m     58\u001b[0m     \u001b[0mprep_tagline\u001b[0m\u001b[0;34m(\u001b[0m\u001b[0mdf\u001b[0m\u001b[0;34m)\u001b[0m\u001b[0;34m\u001b[0m\u001b[0;34m\u001b[0m\u001b[0m\n",
      "\u001b[0;32m~/projects/box-office-prediction/prepare.py\u001b[0m in \u001b[0;36mprep_belong\u001b[0;34m(df)\u001b[0m\n\u001b[1;32m      5\u001b[0m \u001b[0;34m\u001b[0m\u001b[0m\n\u001b[1;32m      6\u001b[0m \u001b[0;32mdef\u001b[0m \u001b[0mprep_belong\u001b[0m\u001b[0;34m(\u001b[0m\u001b[0mdf\u001b[0m\u001b[0;34m)\u001b[0m\u001b[0;34m:\u001b[0m\u001b[0;34m\u001b[0m\u001b[0;34m\u001b[0m\u001b[0m\n\u001b[0;32m----> 7\u001b[0;31m     \u001b[0mdf\u001b[0m\u001b[0;34m.\u001b[0m\u001b[0mdrop\u001b[0m\u001b[0;34m(\u001b[0m\u001b[0mcolumns\u001b[0m\u001b[0;34m=\u001b[0m\u001b[0;34m'belongs_to_collection'\u001b[0m\u001b[0;34m,\u001b[0m \u001b[0minplace\u001b[0m\u001b[0;34m=\u001b[0m\u001b[0;32mTrue\u001b[0m\u001b[0;34m)\u001b[0m\u001b[0;34m\u001b[0m\u001b[0;34m\u001b[0m\u001b[0m\n\u001b[0m\u001b[1;32m      8\u001b[0m     \u001b[0;32mreturn\u001b[0m \u001b[0mdf\u001b[0m\u001b[0;34m\u001b[0m\u001b[0;34m\u001b[0m\u001b[0m\n\u001b[1;32m      9\u001b[0m \u001b[0;34m\u001b[0m\u001b[0m\n",
      "\u001b[0;32m/usr/local/anaconda3/lib/python3.7/site-packages/pandas/core/frame.py\u001b[0m in \u001b[0;36mdrop\u001b[0;34m(self, labels, axis, index, columns, level, inplace, errors)\u001b[0m\n\u001b[1;32m   3995\u001b[0m             \u001b[0mlevel\u001b[0m\u001b[0;34m=\u001b[0m\u001b[0mlevel\u001b[0m\u001b[0;34m,\u001b[0m\u001b[0;34m\u001b[0m\u001b[0;34m\u001b[0m\u001b[0m\n\u001b[1;32m   3996\u001b[0m             \u001b[0minplace\u001b[0m\u001b[0;34m=\u001b[0m\u001b[0minplace\u001b[0m\u001b[0;34m,\u001b[0m\u001b[0;34m\u001b[0m\u001b[0;34m\u001b[0m\u001b[0m\n\u001b[0;32m-> 3997\u001b[0;31m             \u001b[0merrors\u001b[0m\u001b[0;34m=\u001b[0m\u001b[0merrors\u001b[0m\u001b[0;34m,\u001b[0m\u001b[0;34m\u001b[0m\u001b[0;34m\u001b[0m\u001b[0m\n\u001b[0m\u001b[1;32m   3998\u001b[0m         )\n\u001b[1;32m   3999\u001b[0m \u001b[0;34m\u001b[0m\u001b[0m\n",
      "\u001b[0;32m/usr/local/anaconda3/lib/python3.7/site-packages/pandas/core/generic.py\u001b[0m in \u001b[0;36mdrop\u001b[0;34m(self, labels, axis, index, columns, level, inplace, errors)\u001b[0m\n\u001b[1;32m   3934\u001b[0m         \u001b[0;32mfor\u001b[0m \u001b[0maxis\u001b[0m\u001b[0;34m,\u001b[0m \u001b[0mlabels\u001b[0m \u001b[0;32min\u001b[0m \u001b[0maxes\u001b[0m\u001b[0;34m.\u001b[0m\u001b[0mitems\u001b[0m\u001b[0;34m(\u001b[0m\u001b[0;34m)\u001b[0m\u001b[0;34m:\u001b[0m\u001b[0;34m\u001b[0m\u001b[0;34m\u001b[0m\u001b[0m\n\u001b[1;32m   3935\u001b[0m             \u001b[0;32mif\u001b[0m \u001b[0mlabels\u001b[0m \u001b[0;32mis\u001b[0m \u001b[0;32mnot\u001b[0m \u001b[0;32mNone\u001b[0m\u001b[0;34m:\u001b[0m\u001b[0;34m\u001b[0m\u001b[0;34m\u001b[0m\u001b[0m\n\u001b[0;32m-> 3936\u001b[0;31m                 \u001b[0mobj\u001b[0m \u001b[0;34m=\u001b[0m \u001b[0mobj\u001b[0m\u001b[0;34m.\u001b[0m\u001b[0m_drop_axis\u001b[0m\u001b[0;34m(\u001b[0m\u001b[0mlabels\u001b[0m\u001b[0;34m,\u001b[0m \u001b[0maxis\u001b[0m\u001b[0;34m,\u001b[0m \u001b[0mlevel\u001b[0m\u001b[0;34m=\u001b[0m\u001b[0mlevel\u001b[0m\u001b[0;34m,\u001b[0m \u001b[0merrors\u001b[0m\u001b[0;34m=\u001b[0m\u001b[0merrors\u001b[0m\u001b[0;34m)\u001b[0m\u001b[0;34m\u001b[0m\u001b[0;34m\u001b[0m\u001b[0m\n\u001b[0m\u001b[1;32m   3937\u001b[0m \u001b[0;34m\u001b[0m\u001b[0m\n\u001b[1;32m   3938\u001b[0m         \u001b[0;32mif\u001b[0m \u001b[0minplace\u001b[0m\u001b[0;34m:\u001b[0m\u001b[0;34m\u001b[0m\u001b[0;34m\u001b[0m\u001b[0m\n",
      "\u001b[0;32m/usr/local/anaconda3/lib/python3.7/site-packages/pandas/core/generic.py\u001b[0m in \u001b[0;36m_drop_axis\u001b[0;34m(self, labels, axis, level, errors)\u001b[0m\n\u001b[1;32m   3968\u001b[0m                 \u001b[0mnew_axis\u001b[0m \u001b[0;34m=\u001b[0m \u001b[0maxis\u001b[0m\u001b[0;34m.\u001b[0m\u001b[0mdrop\u001b[0m\u001b[0;34m(\u001b[0m\u001b[0mlabels\u001b[0m\u001b[0;34m,\u001b[0m \u001b[0mlevel\u001b[0m\u001b[0;34m=\u001b[0m\u001b[0mlevel\u001b[0m\u001b[0;34m,\u001b[0m \u001b[0merrors\u001b[0m\u001b[0;34m=\u001b[0m\u001b[0merrors\u001b[0m\u001b[0;34m)\u001b[0m\u001b[0;34m\u001b[0m\u001b[0;34m\u001b[0m\u001b[0m\n\u001b[1;32m   3969\u001b[0m             \u001b[0;32melse\u001b[0m\u001b[0;34m:\u001b[0m\u001b[0;34m\u001b[0m\u001b[0;34m\u001b[0m\u001b[0m\n\u001b[0;32m-> 3970\u001b[0;31m                 \u001b[0mnew_axis\u001b[0m \u001b[0;34m=\u001b[0m \u001b[0maxis\u001b[0m\u001b[0;34m.\u001b[0m\u001b[0mdrop\u001b[0m\u001b[0;34m(\u001b[0m\u001b[0mlabels\u001b[0m\u001b[0;34m,\u001b[0m \u001b[0merrors\u001b[0m\u001b[0;34m=\u001b[0m\u001b[0merrors\u001b[0m\u001b[0;34m)\u001b[0m\u001b[0;34m\u001b[0m\u001b[0;34m\u001b[0m\u001b[0m\n\u001b[0m\u001b[1;32m   3971\u001b[0m             \u001b[0mresult\u001b[0m \u001b[0;34m=\u001b[0m \u001b[0mself\u001b[0m\u001b[0;34m.\u001b[0m\u001b[0mreindex\u001b[0m\u001b[0;34m(\u001b[0m\u001b[0;34m**\u001b[0m\u001b[0;34m{\u001b[0m\u001b[0maxis_name\u001b[0m\u001b[0;34m:\u001b[0m \u001b[0mnew_axis\u001b[0m\u001b[0;34m}\u001b[0m\u001b[0;34m)\u001b[0m\u001b[0;34m\u001b[0m\u001b[0;34m\u001b[0m\u001b[0m\n\u001b[1;32m   3972\u001b[0m \u001b[0;34m\u001b[0m\u001b[0m\n",
      "\u001b[0;32m/usr/local/anaconda3/lib/python3.7/site-packages/pandas/core/indexes/base.py\u001b[0m in \u001b[0;36mdrop\u001b[0;34m(self, labels, errors)\u001b[0m\n\u001b[1;32m   5016\u001b[0m         \u001b[0;32mif\u001b[0m \u001b[0mmask\u001b[0m\u001b[0;34m.\u001b[0m\u001b[0many\u001b[0m\u001b[0;34m(\u001b[0m\u001b[0;34m)\u001b[0m\u001b[0;34m:\u001b[0m\u001b[0;34m\u001b[0m\u001b[0;34m\u001b[0m\u001b[0m\n\u001b[1;32m   5017\u001b[0m             \u001b[0;32mif\u001b[0m \u001b[0merrors\u001b[0m \u001b[0;34m!=\u001b[0m \u001b[0;34m\"ignore\"\u001b[0m\u001b[0;34m:\u001b[0m\u001b[0;34m\u001b[0m\u001b[0;34m\u001b[0m\u001b[0m\n\u001b[0;32m-> 5018\u001b[0;31m                 \u001b[0;32mraise\u001b[0m \u001b[0mKeyError\u001b[0m\u001b[0;34m(\u001b[0m\u001b[0;34mf\"{labels[mask]} not found in axis\"\u001b[0m\u001b[0;34m)\u001b[0m\u001b[0;34m\u001b[0m\u001b[0;34m\u001b[0m\u001b[0m\n\u001b[0m\u001b[1;32m   5019\u001b[0m             \u001b[0mindexer\u001b[0m \u001b[0;34m=\u001b[0m \u001b[0mindexer\u001b[0m\u001b[0;34m[\u001b[0m\u001b[0;34m~\u001b[0m\u001b[0mmask\u001b[0m\u001b[0;34m]\u001b[0m\u001b[0;34m\u001b[0m\u001b[0;34m\u001b[0m\u001b[0m\n\u001b[1;32m   5020\u001b[0m         \u001b[0;32mreturn\u001b[0m \u001b[0mself\u001b[0m\u001b[0;34m.\u001b[0m\u001b[0mdelete\u001b[0m\u001b[0;34m(\u001b[0m\u001b[0mindexer\u001b[0m\u001b[0;34m)\u001b[0m\u001b[0;34m\u001b[0m\u001b[0;34m\u001b[0m\u001b[0m\n",
      "\u001b[0;31mKeyError\u001b[0m: \"['belongs_to_collection'] not found in axis\""
     ]
    }
   ],
   "source": [
    "df = prepare.prepare_data(train)"
   ]
  },
  {
   "cell_type": "code",
   "execution_count": null,
   "metadata": {},
   "outputs": [],
   "source": [
    "prepare.percent_of_values_missing(df)"
   ]
  },
  {
   "cell_type": "code",
   "execution_count": null,
   "metadata": {},
   "outputs": [],
   "source": [
    "df.shape, test.shape"
   ]
  },
  {
   "cell_type": "code",
   "execution_count": null,
   "metadata": {},
   "outputs": [],
   "source": [
    "train.overview[0]"
   ]
  },
  {
   "cell_type": "code",
   "execution_count": null,
   "metadata": {},
   "outputs": [],
   "source": [
    "train.production_companies[0]"
   ]
  },
  {
   "cell_type": "code",
   "execution_count": null,
   "metadata": {},
   "outputs": [],
   "source": [
    "train.production_countries[0]"
   ]
  }
 ],
 "metadata": {
  "kernelspec": {
   "display_name": "Python 3",
   "language": "python",
   "name": "python3"
  },
  "language_info": {
   "codemirror_mode": {
    "name": "ipython",
    "version": 3
   },
   "file_extension": ".py",
   "mimetype": "text/x-python",
   "name": "python",
   "nbconvert_exporter": "python",
   "pygments_lexer": "ipython3",
   "version": "3.7.4"
  }
 },
 "nbformat": 4,
 "nbformat_minor": 4
}
