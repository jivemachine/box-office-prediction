{
 "cells": [
  {
   "cell_type": "markdown",
   "metadata": {},
   "source": [
    "# Imports"
   ]
  },
  {
   "cell_type": "code",
   "execution_count": 1,
   "metadata": {},
   "outputs": [],
   "source": [
    "import pandas as pd\n",
    "import numpy as np\n",
    "\n",
    "import matplotlib.pyplot as plt\n",
    "\n",
    "import warnings\n",
    "warnings.filterwarnings(\"ignore\")\n",
    "\n",
    "from acquire import acquire_data\n",
    "\n",
    "import prepare\n",
    "\n",
    "pd.set_option(\"display.max_columns\", 10000)"
   ]
  },
  {
   "cell_type": "markdown",
   "metadata": {},
   "source": [
    "# Acquire\n",
    "- acquiring data from acquire.py script"
   ]
  },
  {
   "cell_type": "code",
   "execution_count": 2,
   "metadata": {},
   "outputs": [],
   "source": [
    "train, test = acquire_data()"
   ]
  },
  {
   "cell_type": "markdown",
   "metadata": {},
   "source": [
    "# Exploration / Prep"
   ]
  },
  {
   "cell_type": "code",
   "execution_count": 3,
   "metadata": {},
   "outputs": [
    {
     "name": "stdout",
     "output_type": "stream",
     "text": [
      "<class 'pandas.core.frame.DataFrame'>\n",
      "RangeIndex: 3000 entries, 0 to 2999\n",
      "Data columns (total 23 columns):\n",
      " #   Column                 Non-Null Count  Dtype  \n",
      "---  ------                 --------------  -----  \n",
      " 0   id                     3000 non-null   int64  \n",
      " 1   belongs_to_collection  604 non-null    object \n",
      " 2   budget                 3000 non-null   int64  \n",
      " 3   genres                 2993 non-null   object \n",
      " 4   homepage               946 non-null    object \n",
      " 5   imdb_id                3000 non-null   object \n",
      " 6   original_language      3000 non-null   object \n",
      " 7   original_title         3000 non-null   object \n",
      " 8   overview               2992 non-null   object \n",
      " 9   popularity             3000 non-null   float64\n",
      " 10  poster_path            2999 non-null   object \n",
      " 11  production_companies   2844 non-null   object \n",
      " 12  production_countries   2945 non-null   object \n",
      " 13  release_date           3000 non-null   object \n",
      " 14  runtime                2998 non-null   float64\n",
      " 15  spoken_languages       2980 non-null   object \n",
      " 16  status                 3000 non-null   object \n",
      " 17  tagline                2403 non-null   object \n",
      " 18  title                  3000 non-null   object \n",
      " 19  Keywords               2724 non-null   object \n",
      " 20  cast                   2987 non-null   object \n",
      " 21  crew                   2984 non-null   object \n",
      " 22  revenue                3000 non-null   int64  \n",
      "dtypes: float64(2), int64(3), object(18)\n",
      "memory usage: 539.2+ KB\n"
     ]
    }
   ],
   "source": [
    "train.info()"
   ]
  },
  {
   "cell_type": "code",
   "execution_count": 4,
   "metadata": {},
   "outputs": [
    {
     "data": {
      "text/plain": [
       "id                        0.00\n",
       "belongs_to_collection    79.87\n",
       "budget                    0.00\n",
       "genres                    0.23\n",
       "homepage                 68.47\n",
       "imdb_id                   0.00\n",
       "original_language         0.00\n",
       "original_title            0.00\n",
       "overview                  0.27\n",
       "popularity                0.00\n",
       "poster_path               0.03\n",
       "production_companies      5.20\n",
       "production_countries      1.83\n",
       "release_date              0.00\n",
       "runtime                   0.07\n",
       "spoken_languages          0.67\n",
       "status                    0.00\n",
       "tagline                  19.90\n",
       "title                     0.00\n",
       "Keywords                  9.20\n",
       "cast                      0.43\n",
       "crew                      0.53\n",
       "revenue                   0.00\n",
       "dtype: float64"
      ]
     },
     "execution_count": 4,
     "metadata": {},
     "output_type": "execute_result"
    }
   ],
   "source": [
    "prepare.percent_of_values_missing(train)"
   ]
  },
  {
   "cell_type": "markdown",
   "metadata": {},
   "source": [
    "- I can see a few things I should do with this data, it's not as clean as i had originally though.\n",
    "\n",
    "To Do's:\n",
    "1. change id column to string (no math needs to be done tot hat column)\n",
    "1. drop 'belongs to collection' column 80% null values\n",
    "1. drop 'homepage' column, missing 68% of values\n",
    "1. fill missing tagline with empty string\n",
    "1. drop all other missing data"
   ]
  },
  {
   "cell_type": "code",
   "execution_count": 5,
   "metadata": {},
   "outputs": [
    {
     "data": {
      "text/plain": [
       "((3000, 23), (4398, 22))"
      ]
     },
     "execution_count": 5,
     "metadata": {},
     "output_type": "execute_result"
    }
   ],
   "source": [
    "train.shape, test.shape"
   ]
  },
  {
   "cell_type": "code",
   "execution_count": 6,
   "metadata": {},
   "outputs": [
    {
     "data": {
      "text/html": [
       "<div>\n",
       "<style scoped>\n",
       "    .dataframe tbody tr th:only-of-type {\n",
       "        vertical-align: middle;\n",
       "    }\n",
       "\n",
       "    .dataframe tbody tr th {\n",
       "        vertical-align: top;\n",
       "    }\n",
       "\n",
       "    .dataframe thead th {\n",
       "        text-align: right;\n",
       "    }\n",
       "</style>\n",
       "<table border=\"1\" class=\"dataframe\">\n",
       "  <thead>\n",
       "    <tr style=\"text-align: right;\">\n",
       "      <th></th>\n",
       "      <th>id</th>\n",
       "      <th>belongs_to_collection</th>\n",
       "      <th>budget</th>\n",
       "      <th>genres</th>\n",
       "      <th>homepage</th>\n",
       "      <th>imdb_id</th>\n",
       "      <th>original_language</th>\n",
       "      <th>original_title</th>\n",
       "      <th>overview</th>\n",
       "      <th>popularity</th>\n",
       "      <th>poster_path</th>\n",
       "      <th>production_companies</th>\n",
       "      <th>production_countries</th>\n",
       "      <th>release_date</th>\n",
       "      <th>runtime</th>\n",
       "      <th>spoken_languages</th>\n",
       "      <th>status</th>\n",
       "      <th>tagline</th>\n",
       "      <th>title</th>\n",
       "      <th>Keywords</th>\n",
       "      <th>cast</th>\n",
       "      <th>crew</th>\n",
       "      <th>revenue</th>\n",
       "    </tr>\n",
       "  </thead>\n",
       "  <tbody>\n",
       "    <tr>\n",
       "      <th>0</th>\n",
       "      <td>1</td>\n",
       "      <td>[{'id': 313576, 'name': 'Hot Tub Time Machine ...</td>\n",
       "      <td>14000000</td>\n",
       "      <td>[{'id': 35, 'name': 'Comedy'}]</td>\n",
       "      <td>NaN</td>\n",
       "      <td>tt2637294</td>\n",
       "      <td>en</td>\n",
       "      <td>Hot Tub Time Machine 2</td>\n",
       "      <td>When Lou, who has become the \"father of the In...</td>\n",
       "      <td>6.575393</td>\n",
       "      <td>/tQtWuwvMf0hCc2QR2tkolwl7c3c.jpg</td>\n",
       "      <td>[{'name': 'Paramount Pictures', 'id': 4}, {'na...</td>\n",
       "      <td>[{'iso_3166_1': 'US', 'name': 'United States o...</td>\n",
       "      <td>2/20/15</td>\n",
       "      <td>93.0</td>\n",
       "      <td>[{'iso_639_1': 'en', 'name': 'English'}]</td>\n",
       "      <td>Released</td>\n",
       "      <td>The Laws of Space and Time are About to be Vio...</td>\n",
       "      <td>Hot Tub Time Machine 2</td>\n",
       "      <td>[{'id': 4379, 'name': 'time travel'}, {'id': 9...</td>\n",
       "      <td>[{'cast_id': 4, 'character': 'Lou', 'credit_id...</td>\n",
       "      <td>[{'credit_id': '59ac067c92514107af02c8c8', 'de...</td>\n",
       "      <td>12314651</td>\n",
       "    </tr>\n",
       "    <tr>\n",
       "      <th>1</th>\n",
       "      <td>2</td>\n",
       "      <td>[{'id': 107674, 'name': 'The Princess Diaries ...</td>\n",
       "      <td>40000000</td>\n",
       "      <td>[{'id': 35, 'name': 'Comedy'}, {'id': 18, 'nam...</td>\n",
       "      <td>NaN</td>\n",
       "      <td>tt0368933</td>\n",
       "      <td>en</td>\n",
       "      <td>The Princess Diaries 2: Royal Engagement</td>\n",
       "      <td>Mia Thermopolis is now a college graduate and ...</td>\n",
       "      <td>8.248895</td>\n",
       "      <td>/w9Z7A0GHEhIp7etpj0vyKOeU1Wx.jpg</td>\n",
       "      <td>[{'name': 'Walt Disney Pictures', 'id': 2}]</td>\n",
       "      <td>[{'iso_3166_1': 'US', 'name': 'United States o...</td>\n",
       "      <td>8/6/04</td>\n",
       "      <td>113.0</td>\n",
       "      <td>[{'iso_639_1': 'en', 'name': 'English'}]</td>\n",
       "      <td>Released</td>\n",
       "      <td>It can take a lifetime to find true love; she'...</td>\n",
       "      <td>The Princess Diaries 2: Royal Engagement</td>\n",
       "      <td>[{'id': 2505, 'name': 'coronation'}, {'id': 42...</td>\n",
       "      <td>[{'cast_id': 1, 'character': 'Mia Thermopolis'...</td>\n",
       "      <td>[{'credit_id': '52fe43fe9251416c7502563d', 'de...</td>\n",
       "      <td>95149435</td>\n",
       "    </tr>\n",
       "    <tr>\n",
       "      <th>2</th>\n",
       "      <td>3</td>\n",
       "      <td>NaN</td>\n",
       "      <td>3300000</td>\n",
       "      <td>[{'id': 18, 'name': 'Drama'}]</td>\n",
       "      <td>http://sonyclassics.com/whiplash/</td>\n",
       "      <td>tt2582802</td>\n",
       "      <td>en</td>\n",
       "      <td>Whiplash</td>\n",
       "      <td>Under the direction of a ruthless instructor, ...</td>\n",
       "      <td>64.299990</td>\n",
       "      <td>/lIv1QinFqz4dlp5U4lQ6HaiskOZ.jpg</td>\n",
       "      <td>[{'name': 'Bold Films', 'id': 2266}, {'name': ...</td>\n",
       "      <td>[{'iso_3166_1': 'US', 'name': 'United States o...</td>\n",
       "      <td>10/10/14</td>\n",
       "      <td>105.0</td>\n",
       "      <td>[{'iso_639_1': 'en', 'name': 'English'}]</td>\n",
       "      <td>Released</td>\n",
       "      <td>The road to greatness can take you to the edge.</td>\n",
       "      <td>Whiplash</td>\n",
       "      <td>[{'id': 1416, 'name': 'jazz'}, {'id': 1523, 'n...</td>\n",
       "      <td>[{'cast_id': 5, 'character': 'Andrew Neimann',...</td>\n",
       "      <td>[{'credit_id': '54d5356ec3a3683ba0000039', 'de...</td>\n",
       "      <td>13092000</td>\n",
       "    </tr>\n",
       "    <tr>\n",
       "      <th>3</th>\n",
       "      <td>4</td>\n",
       "      <td>NaN</td>\n",
       "      <td>1200000</td>\n",
       "      <td>[{'id': 53, 'name': 'Thriller'}, {'id': 18, 'n...</td>\n",
       "      <td>http://kahaanithefilm.com/</td>\n",
       "      <td>tt1821480</td>\n",
       "      <td>hi</td>\n",
       "      <td>Kahaani</td>\n",
       "      <td>Vidya Bagchi (Vidya Balan) arrives in Kolkata ...</td>\n",
       "      <td>3.174936</td>\n",
       "      <td>/aTXRaPrWSinhcmCrcfJK17urp3F.jpg</td>\n",
       "      <td>NaN</td>\n",
       "      <td>[{'iso_3166_1': 'IN', 'name': 'India'}]</td>\n",
       "      <td>3/9/12</td>\n",
       "      <td>122.0</td>\n",
       "      <td>[{'iso_639_1': 'en', 'name': 'English'}, {'iso...</td>\n",
       "      <td>Released</td>\n",
       "      <td>NaN</td>\n",
       "      <td>Kahaani</td>\n",
       "      <td>[{'id': 10092, 'name': 'mystery'}, {'id': 1054...</td>\n",
       "      <td>[{'cast_id': 1, 'character': 'Vidya Bagchi', '...</td>\n",
       "      <td>[{'credit_id': '52fe48779251416c9108d6eb', 'de...</td>\n",
       "      <td>16000000</td>\n",
       "    </tr>\n",
       "    <tr>\n",
       "      <th>4</th>\n",
       "      <td>5</td>\n",
       "      <td>NaN</td>\n",
       "      <td>0</td>\n",
       "      <td>[{'id': 28, 'name': 'Action'}, {'id': 53, 'nam...</td>\n",
       "      <td>NaN</td>\n",
       "      <td>tt1380152</td>\n",
       "      <td>ko</td>\n",
       "      <td>마린보이</td>\n",
       "      <td>Marine Boy is the story of a former national s...</td>\n",
       "      <td>1.148070</td>\n",
       "      <td>/m22s7zvkVFDU9ir56PiiqIEWFdT.jpg</td>\n",
       "      <td>NaN</td>\n",
       "      <td>[{'iso_3166_1': 'KR', 'name': 'South Korea'}]</td>\n",
       "      <td>2/5/09</td>\n",
       "      <td>118.0</td>\n",
       "      <td>[{'iso_639_1': 'ko', 'name': '한국어/조선말'}]</td>\n",
       "      <td>Released</td>\n",
       "      <td>NaN</td>\n",
       "      <td>Marine Boy</td>\n",
       "      <td>NaN</td>\n",
       "      <td>[{'cast_id': 3, 'character': 'Chun-soo', 'cred...</td>\n",
       "      <td>[{'credit_id': '52fe464b9251416c75073b43', 'de...</td>\n",
       "      <td>3923970</td>\n",
       "    </tr>\n",
       "  </tbody>\n",
       "</table>\n",
       "</div>"
      ],
      "text/plain": [
       "   id                              belongs_to_collection    budget  \\\n",
       "0   1  [{'id': 313576, 'name': 'Hot Tub Time Machine ...  14000000   \n",
       "1   2  [{'id': 107674, 'name': 'The Princess Diaries ...  40000000   \n",
       "2   3                                                NaN   3300000   \n",
       "3   4                                                NaN   1200000   \n",
       "4   5                                                NaN         0   \n",
       "\n",
       "                                              genres  \\\n",
       "0                     [{'id': 35, 'name': 'Comedy'}]   \n",
       "1  [{'id': 35, 'name': 'Comedy'}, {'id': 18, 'nam...   \n",
       "2                      [{'id': 18, 'name': 'Drama'}]   \n",
       "3  [{'id': 53, 'name': 'Thriller'}, {'id': 18, 'n...   \n",
       "4  [{'id': 28, 'name': 'Action'}, {'id': 53, 'nam...   \n",
       "\n",
       "                            homepage    imdb_id original_language  \\\n",
       "0                                NaN  tt2637294                en   \n",
       "1                                NaN  tt0368933                en   \n",
       "2  http://sonyclassics.com/whiplash/  tt2582802                en   \n",
       "3         http://kahaanithefilm.com/  tt1821480                hi   \n",
       "4                                NaN  tt1380152                ko   \n",
       "\n",
       "                             original_title  \\\n",
       "0                    Hot Tub Time Machine 2   \n",
       "1  The Princess Diaries 2: Royal Engagement   \n",
       "2                                  Whiplash   \n",
       "3                                   Kahaani   \n",
       "4                                      마린보이   \n",
       "\n",
       "                                            overview  popularity  \\\n",
       "0  When Lou, who has become the \"father of the In...    6.575393   \n",
       "1  Mia Thermopolis is now a college graduate and ...    8.248895   \n",
       "2  Under the direction of a ruthless instructor, ...   64.299990   \n",
       "3  Vidya Bagchi (Vidya Balan) arrives in Kolkata ...    3.174936   \n",
       "4  Marine Boy is the story of a former national s...    1.148070   \n",
       "\n",
       "                        poster_path  \\\n",
       "0  /tQtWuwvMf0hCc2QR2tkolwl7c3c.jpg   \n",
       "1  /w9Z7A0GHEhIp7etpj0vyKOeU1Wx.jpg   \n",
       "2  /lIv1QinFqz4dlp5U4lQ6HaiskOZ.jpg   \n",
       "3  /aTXRaPrWSinhcmCrcfJK17urp3F.jpg   \n",
       "4  /m22s7zvkVFDU9ir56PiiqIEWFdT.jpg   \n",
       "\n",
       "                                production_companies  \\\n",
       "0  [{'name': 'Paramount Pictures', 'id': 4}, {'na...   \n",
       "1        [{'name': 'Walt Disney Pictures', 'id': 2}]   \n",
       "2  [{'name': 'Bold Films', 'id': 2266}, {'name': ...   \n",
       "3                                                NaN   \n",
       "4                                                NaN   \n",
       "\n",
       "                                production_countries release_date  runtime  \\\n",
       "0  [{'iso_3166_1': 'US', 'name': 'United States o...      2/20/15     93.0   \n",
       "1  [{'iso_3166_1': 'US', 'name': 'United States o...       8/6/04    113.0   \n",
       "2  [{'iso_3166_1': 'US', 'name': 'United States o...     10/10/14    105.0   \n",
       "3            [{'iso_3166_1': 'IN', 'name': 'India'}]       3/9/12    122.0   \n",
       "4      [{'iso_3166_1': 'KR', 'name': 'South Korea'}]       2/5/09    118.0   \n",
       "\n",
       "                                    spoken_languages    status  \\\n",
       "0           [{'iso_639_1': 'en', 'name': 'English'}]  Released   \n",
       "1           [{'iso_639_1': 'en', 'name': 'English'}]  Released   \n",
       "2           [{'iso_639_1': 'en', 'name': 'English'}]  Released   \n",
       "3  [{'iso_639_1': 'en', 'name': 'English'}, {'iso...  Released   \n",
       "4           [{'iso_639_1': 'ko', 'name': '한국어/조선말'}]  Released   \n",
       "\n",
       "                                             tagline  \\\n",
       "0  The Laws of Space and Time are About to be Vio...   \n",
       "1  It can take a lifetime to find true love; she'...   \n",
       "2    The road to greatness can take you to the edge.   \n",
       "3                                                NaN   \n",
       "4                                                NaN   \n",
       "\n",
       "                                      title  \\\n",
       "0                    Hot Tub Time Machine 2   \n",
       "1  The Princess Diaries 2: Royal Engagement   \n",
       "2                                  Whiplash   \n",
       "3                                   Kahaani   \n",
       "4                                Marine Boy   \n",
       "\n",
       "                                            Keywords  \\\n",
       "0  [{'id': 4379, 'name': 'time travel'}, {'id': 9...   \n",
       "1  [{'id': 2505, 'name': 'coronation'}, {'id': 42...   \n",
       "2  [{'id': 1416, 'name': 'jazz'}, {'id': 1523, 'n...   \n",
       "3  [{'id': 10092, 'name': 'mystery'}, {'id': 1054...   \n",
       "4                                                NaN   \n",
       "\n",
       "                                                cast  \\\n",
       "0  [{'cast_id': 4, 'character': 'Lou', 'credit_id...   \n",
       "1  [{'cast_id': 1, 'character': 'Mia Thermopolis'...   \n",
       "2  [{'cast_id': 5, 'character': 'Andrew Neimann',...   \n",
       "3  [{'cast_id': 1, 'character': 'Vidya Bagchi', '...   \n",
       "4  [{'cast_id': 3, 'character': 'Chun-soo', 'cred...   \n",
       "\n",
       "                                                crew   revenue  \n",
       "0  [{'credit_id': '59ac067c92514107af02c8c8', 'de...  12314651  \n",
       "1  [{'credit_id': '52fe43fe9251416c7502563d', 'de...  95149435  \n",
       "2  [{'credit_id': '54d5356ec3a3683ba0000039', 'de...  13092000  \n",
       "3  [{'credit_id': '52fe48779251416c9108d6eb', 'de...  16000000  \n",
       "4  [{'credit_id': '52fe464b9251416c75073b43', 'de...   3923970  "
      ]
     },
     "execution_count": 6,
     "metadata": {},
     "output_type": "execute_result"
    }
   ],
   "source": [
    "train.head()"
   ]
  },
  {
   "cell_type": "code",
   "execution_count": 12,
   "metadata": {},
   "outputs": [
    {
     "data": {
      "text/plain": [
       "\"[{'id': 35, 'name': 'Comedy'}]\""
      ]
     },
     "execution_count": 12,
     "metadata": {},
     "output_type": "execute_result"
    }
   ],
   "source": [
    "train.genres[0]"
   ]
  },
  {
   "cell_type": "code",
   "execution_count": 13,
   "metadata": {},
   "outputs": [
    {
     "data": {
      "text/plain": [
       "\"[{'id': 4379, 'name': 'time travel'}, {'id': 9663, 'name': 'sequel'}, {'id': 11830, 'name': 'hot tub'}, {'id': 179431, 'name': 'duringcreditsstinger'}]\""
      ]
     },
     "execution_count": 13,
     "metadata": {},
     "output_type": "execute_result"
    }
   ],
   "source": [
    "train.Keywords[0]                                                                                                                                         "
   ]
  },
  {
   "cell_type": "code",
   "execution_count": 14,
   "metadata": {},
   "outputs": [
    {
     "data": {
      "text/plain": [
       "\"[{'cast_id': 4, 'character': 'Lou', 'credit_id': '52fe4ee7c3a36847f82afae7', 'gender': 2, 'id': 52997, 'name': 'Rob Corddry', 'order': 0, 'profile_path': '/k2zJL0V1nEZuFT08xUdOd3ucfXz.jpg'}, {'cast_id': 5, 'character': 'Nick', 'credit_id': '52fe4ee7c3a36847f82afaeb', 'gender': 2, 'id': 64342, 'name': 'Craig Robinson', 'order': 1, 'profile_path': '/tVaRMkJXOEVhYxtnnFuhqW0Rjzz.jpg'}, {'cast_id': 6, 'character': 'Jacob', 'credit_id': '52fe4ee7c3a36847f82afaef', 'gender': 2, 'id': 54729, 'name': 'Clark Duke', 'order': 2, 'profile_path': '/oNzK0umwm5Wn0wyEbOy6TVJCSBn.jpg'}, {'cast_id': 7, 'character': 'Adam Jr.', 'credit_id': '52fe4ee7c3a36847f82afaf3', 'gender': 2, 'id': 36801, 'name': 'Adam Scott', 'order': 3, 'profile_path': '/5gb65xz8bzd42yjMAl4zwo4cvKw.jpg'}, {'cast_id': 8, 'character': 'Hot Tub Repairman', 'credit_id': '52fe4ee7c3a36847f82afaf7', 'gender': 2, 'id': 54812, 'name': 'Chevy Chase', 'order': 4, 'profile_path': '/svjpyYtPwtjvRxX9IZnOmOkhDOt.jpg'}, {'cast_id': 9, 'character': 'Jill', 'credit_id': '52fe4ee7c3a36847f82afafb', 'gender': 1, 'id': 94098, 'name': 'Gillian Jacobs', 'order': 5, 'profile_path': '/rBnhe5vhNPnhRUdtYahBWx90fJM.jpg'}, {'cast_id': 10, 'character': 'Sophie', 'credit_id': '52fe4ee7c3a36847f82afaff', 'gender': 1, 'id': 1159009, 'name': 'Bianca Haase', 'order': 6, 'profile_path': '/4x3nbtD8q8phAJPmoGWXPvz0iM.jpg'}, {'cast_id': 11, 'character': 'Kelly', 'credit_id': '5524ec51c3a3687df3000dbb', 'gender': 1, 'id': 86624, 'name': 'Collette Wolfe', 'order': 7, 'profile_path': '/aSD4h5379b2eEw3bLou9ByLimmq.jpg'}, {'cast_id': 13, 'character': 'Brad', 'credit_id': '5524ec8ec3a3687ded000d72', 'gender': 2, 'id': 466505, 'name': 'Kumail Nanjiani', 'order': 9, 'profile_path': '/x4nAztHY72SVciRfxEsbhIVTsIu.jpg'}, {'cast_id': 14, 'character': 'Courtney', 'credit_id': '5524ec9bc3a3687df8000d13', 'gender': 1, 'id': 70776, 'name': 'Kellee Stewart', 'order': 10, 'profile_path': '/w3xmsEPmJc1Cf0dQ4aIn8YmlHbk.jpg'}, {'cast_id': 15, 'character': 'Terry', 'credit_id': '5524eca892514171cb008237', 'gender': 2, 'id': 347335, 'name': 'Josh Heald', 'order': 11, 'profile_path': '/pwXJIenrDMrG7t3zNfLvr8w1RGU.jpg'}, {'cast_id': 16, 'character': 'Susan', 'credit_id': '5524ecb7925141720c001116', 'gender': 0, 'id': 1451392, 'name': 'Gretchen Koerner', 'order': 12, 'profile_path': '/muULPexCTJGyJba4yKzxronpD50.jpg'}, {'cast_id': 17, 'character': 'Herself', 'credit_id': '5524ecc3c3a3687ded000d74', 'gender': 1, 'id': 98879, 'name': 'Lisa Loeb', 'order': 13, 'profile_path': '/bGqg58ca0bZR38z9HliUMmeNGE.jpg'}, {'cast_id': 18, 'character': 'Herself', 'credit_id': '5524ecd3c3a3687e11000ed3', 'gender': 1, 'id': 1394648, 'name': 'Jessica Williams', 'order': 14, 'profile_path': '/A4syKjkcYB92wLEhH0c0hC3BCpz.jpg'}, {'cast_id': 19, 'character': 'Himself', 'credit_id': '5524ece6925141718d001009', 'gender': 0, 'id': 1451393, 'name': 'Bruce Buffer', 'order': 15, 'profile_path': None}, {'cast_id': 20, 'character': 'Shot Girl', 'credit_id': '5524ecf5c3a3687e08000dc2', 'gender': 0, 'id': 1451394, 'name': 'Mariana Paola Vicente', 'order': 16, 'profile_path': '/ckPllza8624UHWGHCbLShkLxCD1.jpg'}, {'cast_id': 33, 'character': 'Choozy Doozy Host', 'credit_id': '555844da9251412afe0013a9', 'gender': 2, 'id': 2224, 'name': 'Christian Slater', 'order': 17, 'profile_path': '/3ElLWjnvchMS6Q4cIQOK8QNAoMG.jpg'}, {'cast_id': 35, 'character': 'Gary Winkle', 'credit_id': '55872027c3a3683853005074', 'gender': 0, 'id': 185805, 'name': 'Jason Jones', 'order': 18, 'profile_path': '/aIoCw6vo8AGMdsQRAI5g2t0yJT3.jpg'}, {'cast_id': 36, 'character': 'Bridesmaid', 'credit_id': '55efe971c3a368090c00cd1b', 'gender': 0, 'id': 1507448, 'name': 'Olivia Jordan', 'order': 19, 'profile_path': '/szMukAEiIDeasel0lvyaeyKuych.jpg'}, {'cast_id': 37, 'character': 'Christine', 'credit_id': '55efe980c3a36871bf008176', 'gender': 1, 'id': 1334091, 'name': 'Christine Bently', 'order': 20, 'profile_path': '/oUZltnGa55OXE52hfyPTfCshuNy.jpg'}, {'cast_id': 38, 'character': 'Excited Girl', 'credit_id': '55efe98e9251413e3201d316', 'gender': 0, 'id': 557803, 'name': 'Stacey Asaro', 'order': 21, 'profile_path': '/qTPdlr1dXf3kNdyHuDsgtGC0HCC.jpg'}, {'cast_id': 64, 'character': 'Adam (uncredited)', 'credit_id': '58f2135ac3a3682e95008b91', 'gender': 2, 'id': 3036, 'name': 'John Cusack', 'order': 22, 'profile_path': '/uKydQYuZ9TnCzvbQLtj6j98vWAT.jpg'}, {'cast_id': 65, 'character': 'J-Bird', 'credit_id': '59ac0240c3a3682cc802c399', 'gender': 2, 'id': 59256, 'name': 'Adam Herschman', 'order': 23, 'profile_path': '/wZMwiuX1DslF6hDS50z9OTN6z1X.jpg'}, {'cast_id': 66, 'character': 'Bridesmaid', 'credit_id': '59ac02cd925141079d02b1b4', 'gender': 1, 'id': 129714, 'name': 'Kisha Sierra', 'order': 24, 'profile_path': None}]\""
      ]
     },
     "execution_count": 14,
     "metadata": {},
     "output_type": "execute_result"
    }
   ],
   "source": [
    "train.cast[0]"
   ]
  },
  {
   "cell_type": "code",
   "execution_count": 15,
   "metadata": {},
   "outputs": [
    {
     "data": {
      "text/plain": [
       "'[{\\'credit_id\\': \\'59ac067c92514107af02c8c8\\', \\'department\\': \\'Directing\\', \\'gender\\': 0, \\'id\\': 1449071, \\'job\\': \\'First Assistant Director\\', \\'name\\': \\'Kelly Cantley\\', \\'profile_path\\': None}, {\\'credit_id\\': \\'52fe4ee7c3a36847f82afad7\\', \\'department\\': \\'Directing\\', \\'gender\\': 2, \\'id\\': 3227, \\'job\\': \\'Director\\', \\'name\\': \\'Steve Pink\\', \\'profile_path\\': \\'/myHOgo8mQSCiCAZNGMRdHVr03jr.jpg\\'}, {\\'credit_id\\': \\'5524ed25c3a3687ded000d88\\', \\'department\\': \\'Writing\\', \\'gender\\': 2, \\'id\\': 347335, \\'job\\': \\'Writer\\', \\'name\\': \\'Josh Heald\\', \\'profile_path\\': \\'/pwXJIenrDMrG7t3zNfLvr8w1RGU.jpg\\'}, {\\'credit_id\\': \\'5524ed2d925141720c001128\\', \\'department\\': \\'Writing\\', \\'gender\\': 2, \\'id\\': 347335, \\'job\\': \\'Characters\\', \\'name\\': \\'Josh Heald\\', \\'profile_path\\': \\'/pwXJIenrDMrG7t3zNfLvr8w1RGU.jpg\\'}, {\\'credit_id\\': \\'5524ed3d92514166c1004a5d\\', \\'department\\': \\'Production\\', \\'gender\\': 2, \\'id\\': 57822, \\'job\\': \\'Producer\\', \\'name\\': \\'Andrew Panay\\', \\'profile_path\\': None}, {\\'credit_id\\': \\'5524ed4bc3a3687df3000dd2\\', \\'department\\': \\'Production\\', \\'gender\\': 0, \\'id\\': 1451395, \\'job\\': \\'Associate Producer\\', \\'name\\': \\'Adam Blum\\', \\'profile_path\\': None}, {\\'credit_id\\': \\'5524ed5a925141720c00112c\\', \\'department\\': \\'Production\\', \\'gender\\': 2, \\'id\\': 52997, \\'job\\': \\'Executive Producer\\', \\'name\\': \\'Rob Corddry\\', \\'profile_path\\': \\'/k2zJL0V1nEZuFT08xUdOd3ucfXz.jpg\\'}, {\\'credit_id\\': \\'5524ed85c3a3687e0e000f56\\', \\'department\\': \\'Production\\', \\'gender\\': 0, \\'id\\': 62807, \\'job\\': \\'Executive Producer\\', \\'name\\': \\'Ben Ormand\\', \\'profile_path\\': None}, {\\'credit_id\\': \\'5524ed9fc3a3687e0e000f59\\', \\'department\\': \\'Sound\\', \\'gender\\': 2, \\'id\\': 23486, \\'job\\': \\'Original Music Composer\\', \\'name\\': \\'Christophe Beck\\', \\'profile_path\\': \\'/2fnJUmCk6IEpVIptpYaUk31epHx.jpg\\'}, {\\'credit_id\\': \\'5524eda6c3a3687e03000d28\\', \\'department\\': \\'Camera\\', \\'gender\\': 2, \\'id\\': 6117, \\'job\\': \\'Director of Photography\\', \\'name\\': \\'Declan Quinn\\', \\'profile_path\\': None}, {\\'credit_id\\': \\'5524edb4925141720c00113d\\', \\'department\\': \\'Editing\\', \\'gender\\': 0, \\'id\\': 1451396, \\'job\\': \\'Editor\\', \\'name\\': \\'Jamie Gross\\', \\'profile_path\\': None}, {\\'credit_id\\': \\'5524edc1925141727600102e\\', \\'department\\': \\'Production\\', \\'gender\\': 0, \\'id\\': 22219, \\'job\\': \\'Casting\\', \\'name\\': \\'Susie Farris\\', \\'profile_path\\': None}, {\\'credit_id\\': \\'5524edd192514171cb008257\\', \\'department\\': \\'Art\\', \\'gender\\': 0, \\'id\\': 1002643, \\'job\\': \\'Production Design\\', \\'name\\': \\'Ryan Berg\\', \\'profile_path\\': None}, {\\'credit_id\\': \\'555ad9be9251411e5b00d485\\', \\'department\\': \\'Production\\', \\'gender\\': 2, \\'id\\': 57431, \\'job\\': \\'Executive Producer\\', \\'name\\': \\'Matt Moore\\', \\'profile_path\\': None}, {\\'credit_id\\': \\'5677e93bc3a36816890087dc\\', \\'department\\': \\'Directing\\', \\'gender\\': 0, \\'id\\': 1551818, \\'job\\': \\'Script Supervisor\\', \\'name\\': \\'Nicole Garcea\\', \\'profile_path\\': None}, {\\'credit_id\\': \\'5677e96a92514179e10093d0\\', \\'department\\': \\'Production\\', \\'gender\\': 0, \\'id\\': 1551819, \\'job\\': \\'Production Coordinator\\', \\'name\\': \\'Jason Salzman\\', \\'profile_path\\': None}, {\\'credit_id\\': \\'5677e98492514179d2008cd9\\', \\'department\\': \\'Costume & Make-Up\\', \\'gender\\': 0, \\'id\\': 1422996, \\'job\\': \\'Costume Design\\', \\'name\\': \\'Carol Cutshall\\', \\'profile_path\\': None}, {\\'credit_id\\': \\'5677e9d5c3a368168e009414\\', \\'department\\': \\'Art\\', \\'gender\\': 2, \\'id\\': 500199, \\'job\\': \\'Set Decoration\\', \\'name\\': \\'Tim Cohn\\', \\'profile_path\\': None}, {\\'credit_id\\': \\'5677f89d9251417845001a61\\', \\'department\\': \\'Costume & Make-Up\\', \\'gender\\': 0, \\'id\\': 1527917, \\'job\\': \\'Hair Department Head\\', \\'name\\': \\'Voni Hinkle\\', \\'profile_path\\': None}, {\\'credit_id\\': \\'5677f8b392514179dd0089fb\\', \\'department\\': \\'Costume & Make-Up\\', \\'gender\\': 0, \\'id\\': 1431554, \\'job\\': \\'Makeup Department Head\\', \\'name\\': \\'Remi Savva\\', \\'profile_path\\': None}, {\\'credit_id\\': \\'5677f8d1c3a3681689008a4b\\', \\'department\\': \\'Art\\', \\'gender\\': 0, \\'id\\': 66495, \\'job\\': \\'Art Direction\\', \\'name\\': \\'Jason Baldwin Stewart\\', \\'profile_path\\': None}, {\\'credit_id\\': \\'5677f8eec3a3681685008dd5\\', \\'department\\': \\'Production\\', \\'gender\\': 0, \\'id\\': 1412466, \\'job\\': \\'Production Supervisor\\', \\'name\\': \\'Korey Budd\\', \\'profile_path\\': None}, {\\'credit_id\\': \\'5677f90a9251417845001a7d\\', \\'department\\': \\'Sound\\', \\'gender\\': 0, \\'id\\': 1401562, \\'job\\': \\'Sound Re-Recording Mixer\\', \\'name\\': \\'Gary C. Bourgeois\\', \\'profile_path\\': None}, {\\'credit_id\\': \\'5677f91e9251417845001a84\\', \\'department\\': \\'Sound\\', \\'gender\\': 0, \\'id\\': 1396794, \\'job\\': \\'Sound Re-Recording Mixer\\', \\'name\\': \\'Gabriel J. Serrano\\', \\'profile_path\\': None}, {\\'credit_id\\': \\'5677f938c3a3681680008dd4\\', \\'department\\': \\'Editing\\', \\'gender\\': 0, \\'id\\': 13168, \\'job\\': \\'Dialogue Editor\\', \\'name\\': \\'Victoria Rose Sampson\\', \\'profile_path\\': None}, {\\'credit_id\\': \\'5677f94e92514179dd008a1f\\', \\'department\\': \\'Sound\\', \\'gender\\': 0, \\'id\\': 1551839, \\'job\\': \\'Production Sound Mixer\\', \\'name\\': \\'Michael B. Koff\\', \\'profile_path\\': None}, {\\'credit_id\\': \\'5677f968c3a368168e009698\\', \\'department\\': \\'Sound\\', \\'gender\\': 0, \\'id\\': 113052, \\'job\\': \\'Sound Effects Editor\\', \\'name\\': \\'Randall Guth\\', \\'profile_path\\': None}, {\\'credit_id\\': \\'5677f98dc3a3681685008e02\\', \\'department\\': \\'Crew\\', \\'gender\\': 2, \\'id\\': 1442535, \\'job\\': \\'Stunt Coordinator\\', \\'name\\': \\'Chuck Picerni Jr.\\', \\'profile_path\\': \\'/yE5QtXUzcrnCzMRctZL8F5g842B.jpg\\'}, {\\'credit_id\\': \\'5677f9a692514179dd008a49\\', \\'department\\': \\'Camera\\', \\'gender\\': 0, \\'id\\': 1437305, \\'job\\': \\'Camera Operator\\', \\'name\\': \\'Michael Applebaum\\', \\'profile_path\\': None}, {\\'credit_id\\': \\'5677f9bd9251417845001aae\\', \\'department\\': \\'Camera\\', \\'gender\\': 0, \\'id\\': 1401765, \\'job\\': \\'Still Photographer\\', \\'name\\': \\'Steve Dietl\\', \\'profile_path\\': None}, {\\'credit_id\\': \\'5677f9e592514179e7008bf7\\', \\'department\\': \\'Lighting\\', \\'gender\\': 0, \\'id\\': 1402721, \\'job\\': \\'Rigging Gaffer\\', \\'name\\': \\'Tarik Naim Alherimi\\', \\'profile_path\\': None}, {\\'credit_id\\': \\'5677f9f4c3a368167c0090ed\\', \\'department\\': \\'Lighting\\', \\'gender\\': 0, \\'id\\': 1402719, \\'job\\': \\'Gaffer\\', \\'name\\': \\'Paul Olinde\\', \\'profile_path\\': None}, {\\'credit_id\\': \\'5677fa21c3a368168e0096ca\\', \\'department\\': \\'Sound\\', \\'gender\\': 0, \\'id\\': 1551840, \\'job\\': \\'Music Supervisor\\', \\'name\\': \\'Steve Griffen\\', \\'profile_path\\': None}, {\\'credit_id\\': \\'5677fa31c3a3681680008e04\\', \\'department\\': \\'Sound\\', \\'gender\\': 0, \\'id\\': 1551841, \\'job\\': \\'Music Editor\\', \\'name\\': \\'Matt Fausak\\', \\'profile_path\\': None}, {\\'credit_id\\': \\'5677fa4392514179dd008a76\\', \\'department\\': \\'Sound\\', \\'gender\\': 0, \\'id\\': 1551840, \\'job\\': \\'Music Editor\\', \\'name\\': \\'Steve Griffen\\', \\'profile_path\\': None}, {\\'credit_id\\': \\'5677fa609251417845001acf\\', \\'department\\': \\'Costume & Make-Up\\', \\'gender\\': 0, \\'id\\': 1403416, \\'job\\': \\'Costume Supervisor\\', \\'name\\': \\'Shonta T. McCray\\', \\'profile_path\\': None}, {\\'credit_id\\': \\'5677fa8492514179d2008fb3\\', \\'department\\': \\'Camera\\', \\'gender\\': 0, \\'id\\': 1425831, \\'job\\': \\'Steadicam Operator\\', \\'name\\': \\'Mark Karavite\\', \\'profile_path\\': None}, {\\'credit_id\\': \\'5677fab2c3a3681689008ac3\\', \\'department\\': \\'Camera\\', \\'gender\\': 0, \\'id\\': 1551842, \\'job\\': \\'First Assistant Camera\\', \\'name\\': \\'Joe Waistell\\', \\'profile_path\\': None}, {\\'credit_id\\': \\'5677faecc3a368168e0096fe\\', \\'department\\': \\'Sound\\', \\'gender\\': 0, \\'id\\': 58362, \\'job\\': \\'Supervising Sound Editor\\', \\'name\\': \\'Michael Hilkene\\', \\'profile_path\\': None}, {\\'credit_id\\': \\'59ac0368c3a3682c0a02c484\\', \\'department\\': \\'Crew\\', \\'gender\\': 0, \\'id\\': 1881584, \\'job\\': \\'Additional Writing\\', \\'name\\': \\'John Karnay\\', \\'profile_path\\': None}, {\\'credit_id\\': \\'59ac0411c3a3682bf0028966\\', \\'department\\': \\'Costume & Make-Up\\', \\'gender\\': 0, \\'id\\': 1431552, \\'job\\': \\'Hairstylist\\', \\'name\\': \\'Daina Daigle\\', \\'profile_path\\': None}, {\\'credit_id\\': \\'59ac0504925141072302b8fb\\', \\'department\\': \\'Costume & Make-Up\\', \\'gender\\': 0, \\'id\\': 1712001, \\'job\\': \\'Makeup Artist\\', \\'name\\': \\'Allison Gordin\\', \\'profile_path\\': None}, {\\'credit_id\\': \\'59ac0570c3a3682bf0028aac\\', \\'department\\': \\'Costume & Make-Up\\', \\'gender\\': 0, \\'id\\': 578725, \\'job\\': \\'Makeup Artist\\', \\'name\\': \\'Darryl Lucas\\', \\'profile_path\\': None}, {\\'credit_id\\': \\'59ac05a4925141077e02c97e\\', \\'department\\': \\'Costume & Make-Up\\', \\'gender\\': 0, \\'id\\': 1463274, \\'job\\': \\'Makeup Artist\\', \\'name\\': \\'Annabelle MacNeal\\', \\'profile_path\\': None}, {\\'credit_id\\': \\'59ac05c6925141076502d106\\', \\'department\\': \\'Costume & Make-Up\\', \\'gender\\': 0, \\'id\\': 1881586, \\'job\\': \\'Makeup Artist\\', \\'name\\': \\'Marina Savva\\', \\'profile_path\\': None}, {\\'credit_id\\': \\'59ac0615c3a3682c480296aa\\', \\'department\\': \\'Costume & Make-Up\\', \\'gender\\': 0, \\'id\\': 1406267, \\'job\\': \\'Hairstylist\\', \\'name\\': \\'Carl G. Variste\\', \\'profile_path\\': None}, {\\'credit_id\\': \\'59ac06ba925141076502d1fa\\', \\'department\\': \\'Directing\\', \\'gender\\': 0, \\'id\\': 1798593, \\'job\\': \\'First Assistant Director\\', \\'name\\': \\'Josh King\\', \\'profile_path\\': None}, {\\'credit_id\\': \\'59ac06f1c3a3682c2202aca0\\', \\'department\\': \\'Art\\', \\'gender\\': 0, \\'id\\': 1415083, \\'job\\': \\'Greensman\\', \\'name\\': \\'Scott C. Bivona\\', \\'profile_path\\': None}, {\\'credit_id\\': \\'59ac072c925141076502d260\\', \\'department\\': \\'Art\\', \\'gender\\': 0, \\'id\\': 1881587, \\'job\\': \\'Title Designer\\', \\'name\\': \\'Eunha Choi\\', \\'profile_path\\': None}, {\\'credit_id\\': \\'59ac077c925141077e02cb62\\', \\'department\\': \\'Art\\', \\'gender\\': 0, \\'id\\': 1585302, \\'job\\': \\'Construction Coordinator\\', \\'name\\': \\'Daniel Coe\\', \\'profile_path\\': None}, {\\'credit_id\\': \\'59ac07e0925141078a02d842\\', \\'department\\': \\'Art\\', \\'gender\\': 0, \\'id\\': 1495523, \\'job\\': \\'Set Designer\\', \\'name\\': \\'Spencer Davison\\', \\'profile_path\\': None}, {\\'credit_id\\': \\'59ac0862925141072f02cf6f\\', \\'department\\': \\'Art\\', \\'gender\\': 0, \\'id\\': 1881589, \\'job\\': \\'Painter\\', \\'name\\': \\'Sonia L. Garcia\\', \\'profile_path\\': None}, {\\'credit_id\\': \\'59ac08e0c3a3682bf0028e51\\', \\'department\\': \\'Art\\', \\'gender\\': 0, \\'id\\': 1424896, \\'job\\': \\'Art Department Coordinator\\', \\'name\\': \\'Caleb Guillotte\\', \\'profile_path\\': None}, {\\'credit_id\\': \\'59ac0920c3a3682c2202af36\\', \\'department\\': \\'Art\\', \\'gender\\': 0, \\'id\\': 1393375, \\'job\\': \\'Leadman\\', \\'name\\': \"Pat A. O\\'Connor\", \\'profile_path\\': None}, {\\'credit_id\\': \\'59ac095592514107af02cc39\\', \\'department\\': \\'Art\\', \\'gender\\': 0, \\'id\\': 1881592, \\'job\\': \\'Set Designer\\', \\'name\\': \\'Brendan Turrill\\', \\'profile_path\\': None}, {\\'credit_id\\': \\'59ac0989925141072302bdfa\\', \\'department\\': \\'Art\\', \\'gender\\': 2, \\'id\\': 76497, \\'job\\': \\'Property Master\\', \\'name\\': \\'Brook Yeaton\\', \\'profile_path\\': None}, {\\'credit_id\\': \\'59ac0a2cc3a3682c9c02add1\\', \\'department\\': \\'Sound\\', \\'gender\\': 0, \\'id\\': 1881596, \\'job\\': \\'Boom Operator\\', \\'name\\': \\'Matthew Armstrong\\', \\'profile_path\\': None}, {\\'credit_id\\': \\'59ac0aa8925141072f02d282\\', \\'department\\': \\'Visual Effects\\', \\'gender\\': 2, \\'id\\': 1558086, \\'job\\': \\'Special Effects Supervisor\\', \\'name\\': \\'Matt Kutcher\\', \\'profile_path\\': None}, {\\'credit_id\\': \\'59ac0b2ac3a3682c2202b192\\', \\'department\\': \\'Crew\\', \\'gender\\': 2, \\'id\\': 1558087, \\'job\\': \\'Special Effects Coordinator\\', \\'name\\': \\'Eric Roberts\\', \\'profile_path\\': None}, {\\'credit_id\\': \\'59ac0b7ac3a3682c2202b1fb\\', \\'department\\': \\'Visual Effects\\', \\'gender\\': 0, \\'id\\': 1392098, \\'job\\': \\'Visual Effects Supervisor\\', \\'name\\': \\'Rocco Passionino\\', \\'profile_path\\': None}, {\\'credit_id\\': \\'59ac0bbe925141077e02d0c4\\', \\'department\\': \\'Visual Effects\\', \\'gender\\': 0, \\'id\\': 1558716, \\'job\\': \\'Visual Effects Coordinator\\', \\'name\\': \\'Joseph Payo\\', \\'profile_path\\': None}, {\\'credit_id\\': \\'59ac0bf2c3a3682cc802cefa\\', \\'department\\': \\'Visual Effects\\', \\'gender\\': 0, \\'id\\': 1408784, \\'job\\': \\'Visual Effects Producer\\', \\'name\\': \\'Chris Roff\\', \\'profile_path\\': None}, {\\'credit_id\\': \\'59ac0c51c3a3682c48029d99\\', \\'department\\': \\'Lighting\\', \\'gender\\': 0, \\'id\\': 1881600, \\'job\\': \\'Best Boy Electric\\', \\'name\\': \\'Ulyan Atamanyuk\\', \\'profile_path\\': None}, {\\'credit_id\\': \\'59ac0cbac3a3682c0a02cff6\\', \\'department\\': \\'Camera\\', \\'gender\\': 0, \\'id\\': 1881602, \\'job\\': \\'Key Grip\\', \\'name\\': \\'Chris Ekstrom\\', \\'profile_path\\': None}, {\\'credit_id\\': \\'59ac0d54925141072f02d5e6\\', \\'department\\': \\'Lighting\\', \\'gender\\': 0, \\'id\\': 1484984, \\'job\\': \\'Best Boy Electric\\', \\'name\\': \\'Brad Garris\\', \\'profile_path\\': None}, {\\'credit_id\\': \\'59ac0db0925141078a02df86\\', \\'department\\': \\'Camera\\', \\'gender\\': 0, \\'id\\': 1881603, \\'job\\': \\'Dolly Grip\\', \\'name\\': \\'Kendell Joseph\\', \\'profile_path\\': None}, {\\'credit_id\\': \\'59ac0e5a925141077e02d39f\\', \\'department\\': \\'Camera\\', \\'gender\\': 0, \\'id\\': 1549179, \\'job\\': \\'Dolly Grip\\', \\'name\\': \\'Spencer Wilcox\\', \\'profile_path\\': None}, {\\'credit_id\\': \\'59ac0e9f925141079d02bee6\\', \\'department\\': \\'Costume & Make-Up\\', \\'gender\\': 0, \\'id\\': 1552626, \\'job\\': \\'Key Costumer\\', \\'name\\': \\'Sarah P. Koeppe\\', \\'profile_path\\': None}, {\\'credit_id\\': \\'59ac0ec1c3a3682bf0029524\\', \\'department\\': \\'Costume & Make-Up\\', \\'gender\\': 0, \\'id\\': 1881605, \\'job\\': \\'Seamstress\\', \\'name\\': \\'Catherine Rodi\\', \\'profile_path\\': None}, {\\'credit_id\\': \\'59ac0eef925141070702c7ff\\', \\'department\\': \\'Costume & Make-Up\\', \\'gender\\': 0, \\'id\\': 1463801, \\'job\\': \\'Seamstress\\', \\'name\\': \\'Giselle Spence\\', \\'profile_path\\': None}, {\\'credit_id\\': \\'59ac0f5dc3a3682c4802a0f5\\', \\'department\\': \\'Production\\', \\'gender\\': 0, \\'id\\': 1400837, \\'job\\': \\'Location Manager\\', \\'name\\': \\'John A. Johnston\\', \\'profile_path\\': None}, {\\'credit_id\\': \\'59ac0ff2c3a3682c4802a196\\', \\'department\\': \\'Crew\\', \\'gender\\': 0, \\'id\\': 1844322, \\'job\\': \\'Production Controller\\', \\'name\\': \\'Gail Marks\\', \\'profile_path\\': None}]'"
      ]
     },
     "execution_count": 15,
     "metadata": {},
     "output_type": "execute_result"
    }
   ],
   "source": [
    "train.crew[0]"
   ]
  }
 ],
 "metadata": {
  "kernelspec": {
   "display_name": "Python 3",
   "language": "python",
   "name": "python3"
  },
  "language_info": {
   "codemirror_mode": {
    "name": "ipython",
    "version": 3
   },
   "file_extension": ".py",
   "mimetype": "text/x-python",
   "name": "python",
   "nbconvert_exporter": "python",
   "pygments_lexer": "ipython3",
   "version": "3.7.4"
  }
 },
 "nbformat": 4,
 "nbformat_minor": 4
}
